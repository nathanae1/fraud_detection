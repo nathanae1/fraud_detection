{
 "cells": [
  {
   "cell_type": "code",
   "execution_count": 2,
   "metadata": {
    "collapsed": true
   },
   "outputs": [],
   "source": [
    "import pandas as pd\n",
    "import numpy as np\n",
    "import matplotlib.pyplot as plt\n",
    "from bs4 import BeautifulSoup\n",
    "import seaborn as sns\n",
    "import statsmodels.api as sm\n",
    "%matplotlib inline"
   ]
  },
  {
   "cell_type": "code",
   "execution_count": 3,
   "metadata": {
    "collapsed": false
   },
   "outputs": [],
   "source": [
    "df = pd.read_json('data/train_new.json')"
   ]
  },
  {
   "cell_type": "code",
   "execution_count": 126,
   "metadata": {
    "collapsed": true
   },
   "outputs": [
    {
     "data": {
      "text/html": [
       "<div>\n",
       "<table border=\"1\" class=\"dataframe\">\n",
       "  <thead>\n",
       "    <tr style=\"text-align: right;\">\n",
       "      <th></th>\n",
       "      <th>acct_type</th>\n",
       "      <th>approx_payout_date</th>\n",
       "      <th>body_length</th>\n",
       "      <th>channels</th>\n",
       "      <th>country</th>\n",
       "      <th>currency</th>\n",
       "      <th>delivery_method</th>\n",
       "      <th>description</th>\n",
       "      <th>email_domain</th>\n",
       "      <th>event_created</th>\n",
       "      <th>...</th>\n",
       "      <th>ticket_types</th>\n",
       "      <th>user_age</th>\n",
       "      <th>user_created</th>\n",
       "      <th>user_type</th>\n",
       "      <th>venue_address</th>\n",
       "      <th>venue_country</th>\n",
       "      <th>venue_latitude</th>\n",
       "      <th>venue_longitude</th>\n",
       "      <th>venue_name</th>\n",
       "      <th>venue_state</th>\n",
       "    </tr>\n",
       "  </thead>\n",
       "  <tbody>\n",
       "    <tr>\n",
       "      <th>0</th>\n",
       "      <td>fraudster_event</td>\n",
       "      <td>1266062400</td>\n",
       "      <td>3852</td>\n",
       "      <td>5</td>\n",
       "      <td>US</td>\n",
       "      <td>USD</td>\n",
       "      <td>0.0</td>\n",
       "      <td>&lt;p&gt;&lt;a href=\"http://s432.photobucket.com/albums...</td>\n",
       "      <td>gmail.com</td>\n",
       "      <td>1262739706</td>\n",
       "      <td>...</td>\n",
       "      <td>[{u'event_id': 527017, u'cost': 25.0, u'availa...</td>\n",
       "      <td>36</td>\n",
       "      <td>1259613950</td>\n",
       "      <td>1</td>\n",
       "      <td>717 Washington Avenue</td>\n",
       "      <td>US</td>\n",
       "      <td>25.777471</td>\n",
       "      <td>-80.133433</td>\n",
       "      <td>INK Nightclub - South Beach</td>\n",
       "      <td>FL</td>\n",
       "    </tr>\n",
       "    <tr>\n",
       "      <th>1</th>\n",
       "      <td>premium</td>\n",
       "      <td>1296720000</td>\n",
       "      <td>3499</td>\n",
       "      <td>0</td>\n",
       "      <td>US</td>\n",
       "      <td>USD</td>\n",
       "      <td>1.0</td>\n",
       "      <td>&lt;p&gt;Join us for a quick, one-night, community-b...</td>\n",
       "      <td>ruf.org</td>\n",
       "      <td>1293832670</td>\n",
       "      <td>...</td>\n",
       "      <td>[{u'event_id': 786878, u'cost': 35.0, u'availa...</td>\n",
       "      <td>149</td>\n",
       "      <td>1280942776</td>\n",
       "      <td>3</td>\n",
       "      <td></td>\n",
       "      <td>US</td>\n",
       "      <td>32.776566</td>\n",
       "      <td>-79.930922</td>\n",
       "      <td>The Charleston, SC area</td>\n",
       "      <td>SC</td>\n",
       "    </tr>\n",
       "    <tr>\n",
       "      <th>2</th>\n",
       "      <td>premium</td>\n",
       "      <td>1296172800</td>\n",
       "      <td>2601</td>\n",
       "      <td>8</td>\n",
       "      <td>US</td>\n",
       "      <td>USD</td>\n",
       "      <td>1.0</td>\n",
       "      <td>&lt;h3&gt;&lt;span class=\"subcategory\"&gt;&lt;strong&gt;Teacher ...</td>\n",
       "      <td>pvsd.k12.ca.us</td>\n",
       "      <td>1291090956</td>\n",
       "      <td>...</td>\n",
       "      <td>[{u'event_id': 787337, u'cost': 93.51, u'avail...</td>\n",
       "      <td>214</td>\n",
       "      <td>1272559388</td>\n",
       "      <td>3</td>\n",
       "      <td>10100 Pioneer Blvd Suite 100</td>\n",
       "      <td>US</td>\n",
       "      <td>33.944201</td>\n",
       "      <td>-118.080419</td>\n",
       "      <td>Los Angeles County Office of Education</td>\n",
       "      <td>CA</td>\n",
       "    </tr>\n",
       "    <tr>\n",
       "      <th>3</th>\n",
       "      <td>premium</td>\n",
       "      <td>1388966400</td>\n",
       "      <td>12347</td>\n",
       "      <td>6</td>\n",
       "      <td>IE</td>\n",
       "      <td>EUR</td>\n",
       "      <td>1.0</td>\n",
       "      <td>&lt;p style=\"margin-bottom: 1.3em; padding-bottom...</td>\n",
       "      <td>irishtabletennis.com</td>\n",
       "      <td>1360681570</td>\n",
       "      <td>...</td>\n",
       "      <td>[{u'event_id': 885645, u'cost': 25.0, u'availa...</td>\n",
       "      <td>889</td>\n",
       "      <td>1283870102</td>\n",
       "      <td>3</td>\n",
       "      <td></td>\n",
       "      <td>None</td>\n",
       "      <td>NaN</td>\n",
       "      <td>NaN</td>\n",
       "      <td>None</td>\n",
       "      <td>None</td>\n",
       "    </tr>\n",
       "    <tr>\n",
       "      <th>4</th>\n",
       "      <td>premium</td>\n",
       "      <td>1297900800</td>\n",
       "      <td>2417</td>\n",
       "      <td>11</td>\n",
       "      <td>US</td>\n",
       "      <td>USD</td>\n",
       "      <td>0.0</td>\n",
       "      <td>&lt;p&gt;Writers and filmmakers need to understand t...</td>\n",
       "      <td>artsandbusinesscouncil.org</td>\n",
       "      <td>1291994666</td>\n",
       "      <td>...</td>\n",
       "      <td>[{u'event_id': 1114349, u'cost': 150.0, u'avai...</td>\n",
       "      <td>35</td>\n",
       "      <td>1288984065</td>\n",
       "      <td>3</td>\n",
       "      <td>One Marina Park Drive</td>\n",
       "      <td>US</td>\n",
       "      <td>42.353848</td>\n",
       "      <td>-71.044276</td>\n",
       "      <td>Fish &amp; Richardson</td>\n",
       "      <td>MA</td>\n",
       "    </tr>\n",
       "  </tbody>\n",
       "</table>\n",
       "<p>5 rows × 44 columns</p>\n",
       "</div>"
      ],
      "text/plain": [
       "         acct_type  approx_payout_date  body_length  channels country  \\\n",
       "0  fraudster_event          1266062400         3852         5      US   \n",
       "1          premium          1296720000         3499         0      US   \n",
       "2          premium          1296172800         2601         8      US   \n",
       "3          premium          1388966400        12347         6      IE   \n",
       "4          premium          1297900800         2417        11      US   \n",
       "\n",
       "  currency  delivery_method  \\\n",
       "0      USD              0.0   \n",
       "1      USD              1.0   \n",
       "2      USD              1.0   \n",
       "3      EUR              1.0   \n",
       "4      USD              0.0   \n",
       "\n",
       "                                         description  \\\n",
       "0  <p><a href=\"http://s432.photobucket.com/albums...   \n",
       "1  <p>Join us for a quick, one-night, community-b...   \n",
       "2  <h3><span class=\"subcategory\"><strong>Teacher ...   \n",
       "3  <p style=\"margin-bottom: 1.3em; padding-bottom...   \n",
       "4  <p>Writers and filmmakers need to understand t...   \n",
       "\n",
       "                 email_domain  event_created     ...      \\\n",
       "0                   gmail.com     1262739706     ...       \n",
       "1                     ruf.org     1293832670     ...       \n",
       "2              pvsd.k12.ca.us     1291090956     ...       \n",
       "3        irishtabletennis.com     1360681570     ...       \n",
       "4  artsandbusinesscouncil.org     1291994666     ...       \n",
       "\n",
       "                                        ticket_types  user_age  user_created  \\\n",
       "0  [{u'event_id': 527017, u'cost': 25.0, u'availa...        36    1259613950   \n",
       "1  [{u'event_id': 786878, u'cost': 35.0, u'availa...       149    1280942776   \n",
       "2  [{u'event_id': 787337, u'cost': 93.51, u'avail...       214    1272559388   \n",
       "3  [{u'event_id': 885645, u'cost': 25.0, u'availa...       889    1283870102   \n",
       "4  [{u'event_id': 1114349, u'cost': 150.0, u'avai...        35    1288984065   \n",
       "\n",
       "   user_type                 venue_address  venue_country  venue_latitude  \\\n",
       "0          1         717 Washington Avenue             US       25.777471   \n",
       "1          3                                           US       32.776566   \n",
       "2          3  10100 Pioneer Blvd Suite 100             US       33.944201   \n",
       "3          3                                         None             NaN   \n",
       "4          3        One Marina Park Drive              US       42.353848   \n",
       "\n",
       "   venue_longitude                              venue_name venue_state  \n",
       "0       -80.133433             INK Nightclub - South Beach          FL  \n",
       "1       -79.930922                 The Charleston, SC area          SC  \n",
       "2      -118.080419  Los Angeles County Office of Education          CA  \n",
       "3              NaN                                    None        None  \n",
       "4       -71.044276                       Fish & Richardson          MA  \n",
       "\n",
       "[5 rows x 44 columns]"
      ]
     },
     "execution_count": 126,
     "metadata": {},
     "output_type": "execute_result"
    }
   ],
   "source": [
    "df.head(5)"
   ]
  },
  {
   "cell_type": "code",
   "execution_count": 127,
   "metadata": {
    "collapsed": false
   },
   "outputs": [
    {
     "data": {
      "text/plain": [
       "array([u'fraudster_event', u'premium', u'spammer_warn', u'fraudster',\n",
       "       u'spammer_limited', u'spammer_noinvite', u'locked', u'tos_lock',\n",
       "       u'tos_warn', u'fraudster_att', u'spammer_web', u'spammer'], dtype=object)"
      ]
     },
     "execution_count": 127,
     "metadata": {},
     "output_type": "execute_result"
    }
   ],
   "source": [
    "df.acct_type.unique()"
   ]
  },
  {
   "cell_type": "code",
   "execution_count": 57,
   "metadata": {
    "collapsed": false,
    "scrolled": false
   },
   "outputs": [
    {
     "name": "stdout",
     "output_type": "stream",
     "text": [
      "Index([         u'acct_type', u'approx_payout_date',        u'body_length',\n",
      "                 u'channels',            u'country',           u'currency',\n",
      "          u'delivery_method',        u'description',       u'email_domain',\n",
      "            u'event_created',          u'event_end',    u'event_published',\n",
      "              u'event_start',       u'fb_published',                u'gts',\n",
      "            u'has_analytics',         u'has_header',           u'has_logo',\n",
      "                   u'listed',               u'name',        u'name_length',\n",
      "                u'num_order',        u'num_payouts',          u'object_id',\n",
      "                 u'org_desc',       u'org_facebook',           u'org_name',\n",
      "              u'org_twitter',         u'payee_name',        u'payout_type',\n",
      "         u'previous_payouts',      u'sale_duration',     u'sale_duration2',\n",
      "                 u'show_map',       u'ticket_types',           u'user_age',\n",
      "             u'user_created',          u'user_type',      u'venue_address',\n",
      "            u'venue_country',     u'venue_latitude',    u'venue_longitude',\n",
      "               u'venue_name',        u'venue_state',           u'category',\n",
      "                 u'is_fraud',          u'email_pop',        u'has_country',\n",
      "            u'country_count',  u'log_country_count',          u'days_live',\n",
      "          u'days_to_publish',       u'is_published'],\n",
      "      dtype='object')\n"
     ]
    }
   ],
   "source": [
    "print df.columns"
   ]
  },
  {
   "cell_type": "markdown",
   "metadata": {},
   "source": [
    "# Creating target"
   ]
  },
  {
   "cell_type": "code",
   "execution_count": 128,
   "metadata": {
    "collapsed": false
   },
   "outputs": [],
   "source": [
    "df['category'] = df.acct_type.apply(lambda x: x.split('_')[0])\n",
    "df['is_fraud'] = (df.category == 'fraudster')"
   ]
  },
  {
   "cell_type": "markdown",
   "metadata": {},
   "source": [
    "## Drop irrelevant columns"
   ]
  },
  {
   "cell_type": "code",
   "execution_count": 129,
   "metadata": {
    "collapsed": false
   },
   "outputs": [],
   "source": [
    "df = df.drop('object_id', axis=1)\n",
    "\n",
    "df = df.drop(['sale_duration', 'sale_duration2'], axis=1)\n",
    "\n",
    "df = df.drop('event_published', axis=1)"
   ]
  },
  {
   "cell_type": "code",
   "execution_count": 133,
   "metadata": {
    "collapsed": false
   },
   "outputs": [
    {
     "data": {
      "text/plain": [
       "Index([         u'acct_type', u'approx_payout_date',        u'body_length',\n",
       "                 u'channels',            u'country',           u'currency',\n",
       "          u'delivery_method',        u'description',       u'email_domain',\n",
       "            u'event_created',          u'event_end',        u'event_start',\n",
       "             u'fb_published',                u'gts',      u'has_analytics',\n",
       "               u'has_header',           u'has_logo',             u'listed',\n",
       "                     u'name',        u'name_length',          u'num_order',\n",
       "              u'num_payouts',           u'org_desc',       u'org_facebook',\n",
       "                 u'org_name',        u'org_twitter',         u'payee_name',\n",
       "              u'payout_type',   u'previous_payouts',           u'show_map',\n",
       "             u'ticket_types',           u'user_age',       u'user_created',\n",
       "                u'user_type',      u'venue_address',      u'venue_country',\n",
       "           u'venue_latitude',    u'venue_longitude',         u'venue_name',\n",
       "              u'venue_state',           u'category',           u'is_fraud'],\n",
       "      dtype='object')"
      ]
     },
     "execution_count": 133,
     "metadata": {},
     "output_type": "execute_result"
    }
   ],
   "source": [
    "df.columns"
   ]
  },
  {
   "cell_type": "markdown",
   "metadata": {},
   "source": [
    "# Categorical variables"
   ]
  },
  {
   "cell_type": "code",
   "execution_count": 172,
   "metadata": {
    "collapsed": true
   },
   "outputs": [],
   "source": [
    "def fraud_by(col):\n",
    "    return df[['is_fraud', col]].groupby(col).mean()"
   ]
  },
  {
   "cell_type": "markdown",
   "metadata": {},
   "source": [
    "## Cluster map"
   ]
  },
  {
   "cell_type": "code",
   "execution_count": 243,
   "metadata": {
    "collapsed": false
   },
   "outputs": [
    {
     "data": {
      "text/html": [
       "<div>\n",
       "<table border=\"1\" class=\"dataframe\">\n",
       "  <thead>\n",
       "    <tr>\n",
       "      <th></th>\n",
       "      <th></th>\n",
       "      <th colspan=\"2\" halign=\"left\">is_fraud</th>\n",
       "    </tr>\n",
       "    <tr>\n",
       "      <th></th>\n",
       "      <th></th>\n",
       "      <th>len</th>\n",
       "      <th>mean</th>\n",
       "    </tr>\n",
       "    <tr>\n",
       "      <th>delivery_method</th>\n",
       "      <th>currency</th>\n",
       "      <th></th>\n",
       "      <th></th>\n",
       "    </tr>\n",
       "  </thead>\n",
       "  <tbody>\n",
       "    <tr>\n",
       "      <th rowspan=\"7\" valign=\"top\">0.0</th>\n",
       "      <th>AUD</th>\n",
       "      <td>401</td>\n",
       "      <td>0.029925</td>\n",
       "    </tr>\n",
       "    <tr>\n",
       "      <th>CAD</th>\n",
       "      <td>762</td>\n",
       "      <td>0.048556</td>\n",
       "    </tr>\n",
       "    <tr>\n",
       "      <th>EUR</th>\n",
       "      <td>143</td>\n",
       "      <td>0.251748</td>\n",
       "    </tr>\n",
       "    <tr>\n",
       "      <th>GBP</th>\n",
       "      <td>1343</td>\n",
       "      <td>0.229337</td>\n",
       "    </tr>\n",
       "    <tr>\n",
       "      <th>MXN</th>\n",
       "      <td>1</td>\n",
       "      <td>1.000000</td>\n",
       "    </tr>\n",
       "    <tr>\n",
       "      <th>NZD</th>\n",
       "      <td>20</td>\n",
       "      <td>0.000000</td>\n",
       "    </tr>\n",
       "    <tr>\n",
       "      <th>USD</th>\n",
       "      <td>5850</td>\n",
       "      <td>0.137949</td>\n",
       "    </tr>\n",
       "    <tr>\n",
       "      <th rowspan=\"6\" valign=\"top\">1.0</th>\n",
       "      <th>AUD</th>\n",
       "      <td>375</td>\n",
       "      <td>0.000000</td>\n",
       "    </tr>\n",
       "    <tr>\n",
       "      <th>CAD</th>\n",
       "      <td>556</td>\n",
       "      <td>0.008993</td>\n",
       "    </tr>\n",
       "    <tr>\n",
       "      <th>EUR</th>\n",
       "      <td>114</td>\n",
       "      <td>0.008772</td>\n",
       "    </tr>\n",
       "    <tr>\n",
       "      <th>GBP</th>\n",
       "      <td>858</td>\n",
       "      <td>0.025641</td>\n",
       "    </tr>\n",
       "    <tr>\n",
       "      <th>NZD</th>\n",
       "      <td>34</td>\n",
       "      <td>0.000000</td>\n",
       "    </tr>\n",
       "    <tr>\n",
       "      <th>USD</th>\n",
       "      <td>3617</td>\n",
       "      <td>0.012441</td>\n",
       "    </tr>\n",
       "    <tr>\n",
       "      <th rowspan=\"6\" valign=\"top\">3.0</th>\n",
       "      <th>AUD</th>\n",
       "      <td>3</td>\n",
       "      <td>0.000000</td>\n",
       "    </tr>\n",
       "    <tr>\n",
       "      <th>CAD</th>\n",
       "      <td>4</td>\n",
       "      <td>0.000000</td>\n",
       "    </tr>\n",
       "    <tr>\n",
       "      <th>EUR</th>\n",
       "      <td>5</td>\n",
       "      <td>0.000000</td>\n",
       "    </tr>\n",
       "    <tr>\n",
       "      <th>GBP</th>\n",
       "      <td>9</td>\n",
       "      <td>0.111111</td>\n",
       "    </tr>\n",
       "    <tr>\n",
       "      <th>NZD</th>\n",
       "      <td>1</td>\n",
       "      <td>0.000000</td>\n",
       "    </tr>\n",
       "    <tr>\n",
       "      <th>USD</th>\n",
       "      <td>225</td>\n",
       "      <td>0.026667</td>\n",
       "    </tr>\n",
       "  </tbody>\n",
       "</table>\n",
       "</div>"
      ],
      "text/plain": [
       "                         is_fraud          \n",
       "                              len      mean\n",
       "delivery_method currency                   \n",
       "0.0             AUD           401  0.029925\n",
       "                CAD           762  0.048556\n",
       "                EUR           143  0.251748\n",
       "                GBP          1343  0.229337\n",
       "                MXN             1  1.000000\n",
       "                NZD            20  0.000000\n",
       "                USD          5850  0.137949\n",
       "1.0             AUD           375  0.000000\n",
       "                CAD           556  0.008993\n",
       "                EUR           114  0.008772\n",
       "                GBP           858  0.025641\n",
       "                NZD            34  0.000000\n",
       "                USD          3617  0.012441\n",
       "3.0             AUD             3  0.000000\n",
       "                CAD             4  0.000000\n",
       "                EUR             5  0.000000\n",
       "                GBP             9  0.111111\n",
       "                NZD             1  0.000000\n",
       "                USD           225  0.026667"
      ]
     },
     "execution_count": 243,
     "metadata": {},
     "output_type": "execute_result"
    }
   ],
   "source": [
    "df[['delivery_method', 'currency', 'is_fraud']].groupby(['delivery_method', 'currency']).agg([len, np.mean])"
   ]
  },
  {
   "cell_type": "code",
   "execution_count": 135,
   "metadata": {
    "collapsed": false
   },
   "outputs": [
    {
     "data": {
      "text/plain": [
       "<seaborn.matrix.ClusterGrid at 0x286935d10>"
      ]
     },
     "execution_count": 135,
     "metadata": {},
     "output_type": "execute_result"
    },
    {
     "data": {
      "image/png": "[encoded data removed]",
      "text/plain": [
       "<matplotlib.figure.Figure at 0x11b44a590>"
      ]
     },
     "metadata": {},
     "output_type": "display_data"
    }
   ],
   "source": [
    "cat_df = df[['delivery_method', 'currency', 'is_fraud']].groupby(['delivery_method', 'currency']).mean()\n",
    "cat_df.reset_index().pivot('delivery_method', 'currency', 'is_fraud').fillna(0)\n",
    "sns.clustermap(cat_df.reset_index().pivot('delivery_method', 'currency', 'is_fraud').drop(['MXN', 'NZD'], axis=1).fillna(0))"
   ]
  },
  {
   "cell_type": "markdown",
   "metadata": {},
   "source": [
    "## Country (count, has_)"
   ]
  },
  {
   "cell_type": "code",
   "execution_count": 136,
   "metadata": {
    "collapsed": false
   },
   "outputs": [],
   "source": [
    "df['has_country'] = ~df.country.isnull()\n",
    "df.country = df.country.fillna('US')\n",
    "\n",
    "country_counts = df.country.value_counts()\n",
    "df['country_count'] = df.country.apply(lambda x: country_counts[x])\n",
    "\n",
    "df['log_country_count'] = np.log(df.country_count)\n",
    "\n",
    "df = df.drop('country', axis=1)"
   ]
  },
  {
   "cell_type": "code",
   "execution_count": 137,
   "metadata": {
    "collapsed": true
   },
   "outputs": [
    {
     "data": {
      "image/png": "[encoded data removed]",
      "text/plain": [
       "<matplotlib.figure.Figure at 0x286935e90>"
      ]
     },
     "metadata": {},
     "output_type": "display_data"
    }
   ],
   "source": [
    "g = sns.FacetGrid(df[df['category'].isin(['premium', 'fraudster'])], hue='category', size=4, aspect=2)\n",
    "g.map(plt.hist, 'country_count', alpha=.4, normed=True, bins=30)\n",
    "plt.legend()\n",
    "plt.show()"
   ]
  },
  {
   "cell_type": "markdown",
   "metadata": {},
   "source": [
    "## Email popularity"
   ]
  },
  {
   "cell_type": "code",
   "execution_count": 139,
   "metadata": {
    "collapsed": false
   },
   "outputs": [],
   "source": [
    "email_counts = df.email_domain.value_counts()\n",
    "df['email_pop'] = df.email_domain.apply(lambda x: email_counts[x])\n",
    "df = df.drop('email_domain', axis=1)"
   ]
  },
  {
   "cell_type": "code",
   "execution_count": 140,
   "metadata": {
    "collapsed": true
   },
   "outputs": [
    {
     "data": {
      "image/png": "[encoded data removed]",
      "text/plain": [
       "<matplotlib.figure.Figure at 0x286935810>"
      ]
     },
     "metadata": {},
     "output_type": "display_data"
    }
   ],
   "source": [
    "g = sns.FacetGrid(df[df['category'].isin(['premium', 'fraudster'])], hue='category', size=4, aspect=2)\n",
    "g.map(plt.hist, 'email_pop', alpha=.4, normed=True, bins=30)\n",
    "plt.legend()\n",
    "plt.show()"
   ]
  },
  {
   "cell_type": "markdown",
   "metadata": {},
   "source": [
    "## Published (remove)"
   ]
  },
  {
   "cell_type": "code",
   "execution_count": 83,
   "metadata": {
    "collapsed": true
   },
   "outputs": [],
   "source": [
    "df.event_published = df.event_published.fillna(-1)"
   ]
  },
  {
   "cell_type": "code",
   "execution_count": 84,
   "metadata": {
    "collapsed": true
   },
   "outputs": [],
   "source": [
    "df['publish_3'] = np.sign(df.event_published)"
   ]
  },
  {
   "cell_type": "code",
   "execution_count": 85,
   "metadata": {
    "collapsed": false
   },
   "outputs": [
    {
     "data": {
      "text/html": [
       "<div>\n",
       "<table border=\"1\" class=\"dataframe\">\n",
       "  <thead>\n",
       "    <tr style=\"text-align: right;\">\n",
       "      <th></th>\n",
       "      <th>is_fraud</th>\n",
       "    </tr>\n",
       "    <tr>\n",
       "      <th>publish_3</th>\n",
       "      <th></th>\n",
       "    </tr>\n",
       "  </thead>\n",
       "  <tbody>\n",
       "    <tr>\n",
       "      <th>-1.0</th>\n",
       "      <td>0.949495</td>\n",
       "    </tr>\n",
       "    <tr>\n",
       "      <th>0.0</th>\n",
       "      <td>0.428571</td>\n",
       "    </tr>\n",
       "    <tr>\n",
       "      <th>1.0</th>\n",
       "      <td>0.082852</td>\n",
       "    </tr>\n",
       "  </tbody>\n",
       "</table>\n",
       "</div>"
      ],
      "text/plain": [
       "           is_fraud\n",
       "publish_3          \n",
       "-1.0       0.949495\n",
       " 0.0       0.428571\n",
       " 1.0       0.082852"
      ]
     },
     "execution_count": 85,
     "metadata": {},
     "output_type": "execute_result"
    }
   ],
   "source": [
    "df[['is_fraud', 'publish_3']].groupby('publish_3').mean()"
   ]
  },
  {
   "cell_type": "code",
   "execution_count": null,
   "metadata": {
    "collapsed": true
   },
   "outputs": [],
   "source": [
    "df = df.drop([   u'event_published',   u'days_to_publish',\n",
    "             u'is_published',      u'not_published', u'not_null_published',\n",
    "                u'publish_3'], axis=1)"
   ]
  },
  {
   "cell_type": "markdown",
   "metadata": {},
   "source": [
    "## Event timing"
   ]
  },
  {
   "cell_type": "code",
   "execution_count": 141,
   "metadata": {
    "collapsed": false
   },
   "outputs": [
    {
     "name": "stderr",
     "output_type": "stream",
     "text": [
      "/Users/nathankiner/anaconda/lib/python2.7/site-packages/pandas/core/generic.py:2701: SettingWithCopyWarning: \n",
      "A value is trying to be set on a copy of a slice from a DataFrame.\n",
      "Try using .loc[row_indexer,col_indexer] = value instead\n",
      "\n",
      "See the caveats in the documentation: http://pandas.pydata.org/pandas-docs/stable/indexing.html#indexing-view-versus-copy\n",
      "  self[name] = value\n"
     ]
    }
   ],
   "source": [
    "df['event_duration'] = (df.event_end - df.event_start) / (24*3600)\n",
    "df[df.event_duration < 0].event_duration = 0"
   ]
  },
  {
   "cell_type": "code",
   "execution_count": 142,
   "metadata": {
    "collapsed": false
   },
   "outputs": [],
   "source": [
    "df['days_to_event_start'] = ((df.event_start - df.event_created) / (24*3600))"
   ]
  },
  {
   "cell_type": "code",
   "execution_count": 143,
   "metadata": {
    "collapsed": false
   },
   "outputs": [],
   "source": [
    "df[df.days_to_event_start < 0].days_to_event_start = 0"
   ]
  },
  {
   "cell_type": "code",
   "execution_count": 144,
   "metadata": {
    "collapsed": false
   },
   "outputs": [
    {
     "data": {
      "text/plain": [
       "count    1293.000000\n",
       "mean       16.708329\n",
       "std        58.886338\n",
       "min     -1093.728970\n",
       "25%         1.319954\n",
       "50%         4.186285\n",
       "75%        18.396806\n",
       "max       979.785914\n",
       "Name: days_to_event_start, dtype: float64"
      ]
     },
     "execution_count": 144,
     "metadata": {},
     "output_type": "execute_result"
    }
   ],
   "source": [
    "df[df.is_fraud].days_to_event_start.describe()"
   ]
  },
  {
   "cell_type": "code",
   "execution_count": 146,
   "metadata": {
    "collapsed": false
   },
   "outputs": [
    {
     "data": {
      "text/plain": [
       "count    13044.000000\n",
       "mean        54.065879\n",
       "std         58.667691\n",
       "min        -85.858171\n",
       "25%         20.503571\n",
       "50%         37.250029\n",
       "75%         66.745098\n",
       "max        848.244190\n",
       "Name: days_to_event_start, dtype: float64"
      ]
     },
     "execution_count": 146,
     "metadata": {},
     "output_type": "execute_result"
    }
   ],
   "source": [
    "df[~df.is_fraud].days_to_event_start.describe()"
   ]
  },
  {
   "cell_type": "code",
   "execution_count": 147,
   "metadata": {
    "collapsed": false
   },
   "outputs": [
    {
     "data": {
      "image/png": "[encoded data removed]",
      "text/plain": [
       "<matplotlib.figure.Figure at 0x12115edd0>"
      ]
     },
     "metadata": {},
     "output_type": "display_data"
    }
   ],
   "source": [
    "g = sns.FacetGrid(df[df['category'].isin(['premium', 'fraudster'])], hue='category', size=4, aspect=2)\n",
    "g.map(plt.hist, 'event_duration', alpha=.4, normed=True, bins=30)\n",
    "plt.legend()\n",
    "plt.show()"
   ]
  },
  {
   "cell_type": "markdown",
   "metadata": {},
   "source": [
    "## Body length"
   ]
  },
  {
   "cell_type": "code",
   "execution_count": 148,
   "metadata": {
    "collapsed": false
   },
   "outputs": [
    {
     "name": "stderr",
     "output_type": "stream",
     "text": [
      "/Users/nathankiner/anaconda/lib/python2.7/site-packages/ipykernel/__main__.py:4: SettingWithCopyWarning: \n",
      "A value is trying to be set on a copy of a slice from a DataFrame\n",
      "\n",
      "See the caveats in the documentation: http://pandas.pydata.org/pandas-docs/stable/indexing.html#indexing-view-versus-copy\n"
     ]
    }
   ],
   "source": [
    "df['has_body_length'] = (df.body_length > 0)\n",
    "\n",
    "df['log_body_length'] = np.log(df.body_length)\n",
    "df.log_body_length[~df.has_body_length] = -1"
   ]
  },
  {
   "cell_type": "code",
   "execution_count": 149,
   "metadata": {
    "collapsed": false
   },
   "outputs": [
    {
     "data": {
      "image/png": "[encoded data removed]",
      "text/plain": [
       "<matplotlib.figure.Figure at 0x2868afcd0>"
      ]
     },
     "metadata": {},
     "output_type": "display_data"
    }
   ],
   "source": [
    "g = sns.FacetGrid(df[df['category'].isin(['premium', 'fraudster'])], hue='category', size=4, aspect=2)\n",
    "g.map(plt.hist, 'log_body_length', alpha=.4, normed=True, bins=30)\n",
    "plt.legend()\n",
    "plt.show()"
   ]
  },
  {
   "cell_type": "markdown",
   "metadata": {},
   "source": [
    "## Dummies factory"
   ]
  },
  {
   "cell_type": "code",
   "execution_count": 237,
   "metadata": {
    "collapsed": true
   },
   "outputs": [
    {
     "data": {
      "text/plain": [
       "[{u'address': u'1700 North Brown Road',\n",
       "  u'amount': 34389.38,\n",
       "  u'country': u'US',\n",
       "  u'created': u'2010-10-01 01:10:09',\n",
       "  u'event': 786869,\n",
       "  u'name': u'RUF',\n",
       "  u'state': u'GA',\n",
       "  u'uid': 5419068,\n",
       "  u'zip_code': u'30043'},\n",
       " {u'address': u'1700 North Brown Road',\n",
       "  u'amount': 764.93,\n",
       "  u'country': u'US',\n",
       "  u'created': u'2011-02-02 01:12:10',\n",
       "  u'event': 786878,\n",
       "  u'name': u'RUF',\n",
       "  u'state': u'GA',\n",
       "  u'uid': 5419068,\n",
       "  u'zip_code': u'30043'},\n",
       " {u'address': u'1700 North Brown Road',\n",
       "  u'amount': 17405.26,\n",
       "  u'country': u'US',\n",
       "  u'created': u'2011-03-15 01:30:42',\n",
       "  u'event': 1181203,\n",
       "  u'name': u'RUF',\n",
       "  u'state': u'GA',\n",
       "  u'uid': 5419068,\n",
       "  u'zip_code': u'30043'},\n",
       " {u'address': u'1700 North Brown Road',\n",
       "  u'amount': 2224.16,\n",
       "  u'country': u'US',\n",
       "  u'created': u'2011-03-15 01:30:42',\n",
       "  u'event': 1293213,\n",
       "  u'name': u'RUF',\n",
       "  u'state': u'GA',\n",
       "  u'uid': 5419068,\n",
       "  u'zip_code': u'30043'},\n",
       " {u'address': u'1700 North Brown Road',\n",
       "  u'amount': 5370.58,\n",
       "  u'country': u'US',\n",
       "  u'created': u'2011-04-01 01:30:31',\n",
       "  u'event': 1181203,\n",
       "  u'name': u'RUF',\n",
       "  u'state': u'GA',\n",
       "  u'uid': 5419068,\n",
       "  u'zip_code': u'30043'},\n",
       " {u'address': u'1700 North Brown Road',\n",
       "  u'amount': 81511.89,\n",
       "  u'country': u'US',\n",
       "  u'created': u'2011-05-01 01:30:48',\n",
       "  u'event': 1181203,\n",
       "  u'name': u'RUF',\n",
       "  u'state': u'GA',\n",
       "  u'uid': 5419068,\n",
       "  u'zip_code': u'30043'},\n",
       " {u'address': u'1700 North Brown Road',\n",
       "  u'amount': 86855.8,\n",
       "  u'country': u'US',\n",
       "  u'created': u'2011-05-01 01:30:48',\n",
       "  u'event': 1293213,\n",
       "  u'name': u'RUF',\n",
       "  u'state': u'GA',\n",
       "  u'uid': 5419068,\n",
       "  u'zip_code': u'30043'},\n",
       " {u'address': u'1700 North Brown Road',\n",
       "  u'amount': 3095.08,\n",
       "  u'country': u'US',\n",
       "  u'created': u'2011-05-15 01:30:31',\n",
       "  u'event': 1293213,\n",
       "  u'name': u'RUF',\n",
       "  u'state': u'GA',\n",
       "  u'uid': 5419068,\n",
       "  u'zip_code': u'30043'},\n",
       " {u'address': u'1700 North Brown Road',\n",
       "  u'amount': 40833.14,\n",
       "  u'country': u'US',\n",
       "  u'created': u'2011-05-19 01:13:14',\n",
       "  u'event': 1181203,\n",
       "  u'name': u'RUF',\n",
       "  u'state': u'GA',\n",
       "  u'uid': 5419068,\n",
       "  u'zip_code': u'30043'},\n",
       " {u'address': u'1700 North Brown Road',\n",
       "  u'amount': 25751.65,\n",
       "  u'country': u'US',\n",
       "  u'created': u'2011-05-26 01:12:49',\n",
       "  u'event': 1293213,\n",
       "  u'name': u'RUF',\n",
       "  u'state': u'GA',\n",
       "  u'uid': 5419068,\n",
       "  u'zip_code': u'30043'},\n",
       " {u'address': u'1700 North Brown Road',\n",
       "  u'amount': 261.89,\n",
       "  u'country': u'US',\n",
       "  u'created': u'2011-08-15 01:30:34',\n",
       "  u'event': 1225457,\n",
       "  u'name': u'RUF',\n",
       "  u'state': u'GA',\n",
       "  u'uid': 5419068,\n",
       "  u'zip_code': u'30043'},\n",
       " {u'address': u'1700 North Brown Road',\n",
       "  u'amount': 32.5,\n",
       "  u'country': u'US',\n",
       "  u'created': u'2011-08-23 01:10:51',\n",
       "  u'event': 1225457,\n",
       "  u'name': u'RUF',\n",
       "  u'state': u'GA',\n",
       "  u'uid': 5419068,\n",
       "  u'zip_code': u'30043'},\n",
       " {u'address': u'1700 North Brown Road',\n",
       "  u'amount': 2318.73,\n",
       "  u'country': u'US',\n",
       "  u'created': u'2011-09-01 01:30:49',\n",
       "  u'event': 1988623,\n",
       "  u'name': u'RUF',\n",
       "  u'state': u'GA',\n",
       "  u'uid': 5419068,\n",
       "  u'zip_code': u'30043'},\n",
       " {u'address': u'1700 North Brown Road',\n",
       "  u'amount': 21481.32,\n",
       "  u'country': u'US',\n",
       "  u'created': u'2011-09-15 01:30:27',\n",
       "  u'event': 1988623,\n",
       "  u'name': u'RUF',\n",
       "  u'state': u'GA',\n",
       "  u'uid': 5419068,\n",
       "  u'zip_code': u'30043'},\n",
       " {u'address': u'1700 North Brown Road',\n",
       "  u'amount': 16142.47,\n",
       "  u'country': u'US',\n",
       "  u'created': u'2011-09-30 01:11:01',\n",
       "  u'event': 1988623,\n",
       "  u'name': u'RUF',\n",
       "  u'state': u'GA',\n",
       "  u'uid': 5419068,\n",
       "  u'zip_code': u'30043'},\n",
       " {u'address': u'1700 North Brown Road',\n",
       "  u'amount': 132.04,\n",
       "  u'country': u'US',\n",
       "  u'created': u'2011-10-01 01:30:29',\n",
       "  u'event': 2218060,\n",
       "  u'name': u'RUF',\n",
       "  u'state': u'GA',\n",
       "  u'uid': 5419068,\n",
       "  u'zip_code': u'30043'},\n",
       " {u'address': u'1700 North Brown Road',\n",
       "  u'amount': 793.81,\n",
       "  u'country': u'US',\n",
       "  u'created': u'2011-10-15 01:30:25',\n",
       "  u'event': 2218060,\n",
       "  u'name': u'RUF',\n",
       "  u'state': u'GA',\n",
       "  u'uid': 5419068,\n",
       "  u'zip_code': u'30043'},\n",
       " {u'address': u'1700 North Brown Road',\n",
       "  u'amount': 113.0,\n",
       "  u'country': u'US',\n",
       "  u'created': u'2011-10-21 01:11:23',\n",
       "  u'event': 2218060,\n",
       "  u'name': u'RUF',\n",
       "  u'state': u'GA',\n",
       "  u'uid': 5419068,\n",
       "  u'zip_code': u'30043'},\n",
       " {u'address': u'1700 North Brown Road',\n",
       "  u'amount': 7032.66,\n",
       "  u'country': u'US',\n",
       "  u'created': u'2012-02-01 03:30:53',\n",
       "  u'event': 2759189,\n",
       "  u'name': u'RUF',\n",
       "  u'state': u'GA',\n",
       "  u'uid': 5419068,\n",
       "  u'zip_code': u'30043'},\n",
       " {u'address': u'1700 North Brown Road',\n",
       "  u'amount': 1876.73,\n",
       "  u'country': u'US',\n",
       "  u'created': u'2012-02-01 03:30:53',\n",
       "  u'event': 2804299,\n",
       "  u'name': u'RUF',\n",
       "  u'state': u'GA',\n",
       "  u'uid': 5419068,\n",
       "  u'zip_code': u'30043'},\n",
       " {u'address': u'1700 North Brown Road',\n",
       "  u'amount': 146.13,\n",
       "  u'country': u'US',\n",
       "  u'created': u'2012-02-02 03:12:43',\n",
       "  u'event': 2738145,\n",
       "  u'name': u'RUF',\n",
       "  u'state': u'GA',\n",
       "  u'uid': 5419068,\n",
       "  u'zip_code': u'30043'},\n",
       " {u'address': u'1700 North Brown Road',\n",
       "  u'amount': 263.93,\n",
       "  u'country': u'US',\n",
       "  u'created': u'2012-02-15 03:30:44',\n",
       "  u'event': 2707505,\n",
       "  u'name': u'RUF ',\n",
       "  u'state': u'GA',\n",
       "  u'uid': 5419068,\n",
       "  u'zip_code': u'30043'},\n",
       " {u'address': u'1700 North Brown Road',\n",
       "  u'amount': 5425.92,\n",
       "  u'country': u'US',\n",
       "  u'created': u'2012-02-15 03:30:44',\n",
       "  u'event': 2759189,\n",
       "  u'name': u'RUF',\n",
       "  u'state': u'GA',\n",
       "  u'uid': 5419068,\n",
       "  u'zip_code': u'30043'},\n",
       " {u'address': u'1700 North Brown Road',\n",
       "  u'amount': 5848.27,\n",
       "  u'country': u'US',\n",
       "  u'created': u'2012-02-17 03:12:04',\n",
       "  u'event': 2804299,\n",
       "  u'name': u'RUF',\n",
       "  u'state': u'GA',\n",
       "  u'uid': 5419068,\n",
       "  u'zip_code': u'30043'},\n",
       " {u'address': u'1700 North Brown Road',\n",
       "  u'amount': 3984.25,\n",
       "  u'country': u'US',\n",
       "  u'created': u'2012-03-02 03:12:11',\n",
       "  u'event': 2759189,\n",
       "  u'name': u'RUF',\n",
       "  u'state': u'GA',\n",
       "  u'uid': 5419068,\n",
       "  u'zip_code': u'30043'},\n",
       " {u'address': u'1700 North Brown Road',\n",
       "  u'amount': 29683.73,\n",
       "  u'country': u'US',\n",
       "  u'created': u'2012-03-15 03:30:49',\n",
       "  u'event': 2760853,\n",
       "  u'name': u'RUF',\n",
       "  u'state': u'GA',\n",
       "  u'uid': 5419068,\n",
       "  u'zip_code': u'30043'},\n",
       " {u'address': u'1700 North Brown Road',\n",
       "  u'amount': 10379.33,\n",
       "  u'country': u'US',\n",
       "  u'created': u'2012-03-15 03:30:49',\n",
       "  u'event': 3049167,\n",
       "  u'name': u'RUF',\n",
       "  u'state': u'GA',\n",
       "  u'uid': 5419068,\n",
       "  u'zip_code': u'30043'},\n",
       " {u'address': u'1700 North Brown Road',\n",
       "  u'amount': 31.07,\n",
       "  u'country': u'US',\n",
       "  u'created': u'2012-03-29 03:13:28',\n",
       "  u'event': 2707505,\n",
       "  u'name': u'RUF ',\n",
       "  u'state': u'GA',\n",
       "  u'uid': 5419068,\n",
       "  u'zip_code': u'30043'},\n",
       " {u'address': u'1700 North Brown Road',\n",
       "  u'amount': 43465.59,\n",
       "  u'country': u'US',\n",
       "  u'created': u'2012-04-01 03:30:55',\n",
       "  u'event': 2760853,\n",
       "  u'name': u'RUF',\n",
       "  u'state': u'GA',\n",
       "  u'uid': 5419068,\n",
       "  u'zip_code': u'30043'},\n",
       " {u'address': u'1700 North Brown Road',\n",
       "  u'amount': 16894.06,\n",
       "  u'country': u'US',\n",
       "  u'created': u'2012-04-01 03:30:55',\n",
       "  u'event': 3049167,\n",
       "  u'name': u'RUF',\n",
       "  u'state': u'GA',\n",
       "  u'uid': 5419068,\n",
       "  u'zip_code': u'30043'},\n",
       " {u'address': u'1700 North Brown Road',\n",
       "  u'amount': 46518.9,\n",
       "  u'country': u'US',\n",
       "  u'created': u'2012-04-15 03:30:47',\n",
       "  u'event': 2760853,\n",
       "  u'name': u'RUF',\n",
       "  u'state': u'GA',\n",
       "  u'uid': 5419068,\n",
       "  u'zip_code': u'30043'},\n",
       " {u'address': u'1700 North Brown Road',\n",
       "  u'amount': 35955.38,\n",
       "  u'country': u'US',\n",
       "  u'created': u'2012-04-15 03:30:47',\n",
       "  u'event': 3049167,\n",
       "  u'name': u'RUF',\n",
       "  u'state': u'GA',\n",
       "  u'uid': 5419068,\n",
       "  u'zip_code': u'30043'},\n",
       " {u'address': u'1700 North Brown Road',\n",
       "  u'amount': 2537.13,\n",
       "  u'country': u'US',\n",
       "  u'created': u'2012-05-01 03:30:54',\n",
       "  u'event': 2760853,\n",
       "  u'name': u'RUF',\n",
       "  u'state': u'GA',\n",
       "  u'uid': 5419068,\n",
       "  u'zip_code': u'30043'},\n",
       " {u'address': u'1700 North Brown Road',\n",
       "  u'amount': 14565.88,\n",
       "  u'country': u'US',\n",
       "  u'created': u'2012-05-01 03:30:54',\n",
       "  u'event': 3049167,\n",
       "  u'name': u'RUF',\n",
       "  u'state': u'GA',\n",
       "  u'uid': 5419068,\n",
       "  u'zip_code': u'30043'},\n",
       " {u'address': u'1700 North Brown Road',\n",
       "  u'amount': 71314.81,\n",
       "  u'country': u'US',\n",
       "  u'created': u'2012-05-15 03:30:53',\n",
       "  u'event': 3049167,\n",
       "  u'name': u'RUF',\n",
       "  u'state': u'GA',\n",
       "  u'uid': 5419068,\n",
       "  u'zip_code': u'30043'},\n",
       " {u'address': u'1700 North Brown Road',\n",
       "  u'amount': 37586.56,\n",
       "  u'country': u'US',\n",
       "  u'created': u'2012-05-17 03:14:19',\n",
       "  u'event': 2760853,\n",
       "  u'name': u'RUF',\n",
       "  u'state': u'GA',\n",
       "  u'uid': 5419068,\n",
       "  u'zip_code': u'30043'},\n",
       " {u'address': u'1700 North Brown Road',\n",
       "  u'amount': 18560.8,\n",
       "  u'country': u'US',\n",
       "  u'created': u'2012-05-24 03:13:12',\n",
       "  u'event': 3049167,\n",
       "  u'name': u'RUF',\n",
       "  u'state': u'GA',\n",
       "  u'uid': 5419068,\n",
       "  u'zip_code': u'30043'},\n",
       " {u'address': u'1700 North Brown Road',\n",
       "  u'amount': 4965.98,\n",
       "  u'country': u'US',\n",
       "  u'created': u'2012-09-01 03:30:39',\n",
       "  u'event': 3877318,\n",
       "  u'name': u'RUF',\n",
       "  u'state': u'GA',\n",
       "  u'uid': 5419068,\n",
       "  u'zip_code': u'30043'},\n",
       " {u'address': u'1700 North Brown Road',\n",
       "  u'amount': 2029.86,\n",
       "  u'country': u'US',\n",
       "  u'created': u'2012-09-15 03:30:38',\n",
       "  u'event': 2831243,\n",
       "  u'name': u'RUF',\n",
       "  u'state': u'GA',\n",
       "  u'uid': 5419068,\n",
       "  u'zip_code': u'30043'},\n",
       " {u'address': u'1700 North Brown Road',\n",
       "  u'amount': 28205.81,\n",
       "  u'country': u'US',\n",
       "  u'created': u'2012-09-15 03:30:38',\n",
       "  u'event': 3877318,\n",
       "  u'name': u'RUF',\n",
       "  u'state': u'GA',\n",
       "  u'uid': 5419068,\n",
       "  u'zip_code': u'30043'},\n",
       " {u'address': u'1700 North Brown Road',\n",
       "  u'amount': 14120.8,\n",
       "  u'country': u'US',\n",
       "  u'created': u'2012-09-28 03:16:13',\n",
       "  u'event': 3877318,\n",
       "  u'name': u'RUF',\n",
       "  u'state': u'GA',\n",
       "  u'uid': 5419068,\n",
       "  u'zip_code': u'30043'},\n",
       " {u'address': u'1700 North Brown Road',\n",
       "  u'amount': 4242.5,\n",
       "  u'country': u'US',\n",
       "  u'created': u'2012-10-05 03:17:30',\n",
       "  u'event': 2831243,\n",
       "  u'name': u'RUF',\n",
       "  u'state': u'GA',\n",
       "  u'uid': 5419068,\n",
       "  u'zip_code': u'30043'},\n",
       " {u'address': u'1700 North Brown Road',\n",
       "  u'amount': 4832.31,\n",
       "  u'country': u'US',\n",
       "  u'created': u'2012-10-18 03:14:48',\n",
       "  u'event': 4256932,\n",
       "  u'name': u'RUF',\n",
       "  u'state': u'GA',\n",
       "  u'uid': 5419068,\n",
       "  u'zip_code': u'30043'},\n",
       " {u'address': u'1700 North Brown Road',\n",
       "  u'amount': 37.26,\n",
       "  u'country': u'US',\n",
       "  u'created': u'2013-09-01 03:32:05',\n",
       "  u'event': 4909773,\n",
       "  u'name': u'RUF',\n",
       "  u'state': u'GA',\n",
       "  u'uid': 5419068,\n",
       "  u'zip_code': u'30043'},\n",
       " {u'address': u'1700 North Brown Road',\n",
       "  u'amount': 4361.34,\n",
       "  u'country': u'US',\n",
       "  u'created': u'2013-09-01 03:32:06',\n",
       "  u'event': 7579105,\n",
       "  u'name': u'RUF',\n",
       "  u'state': u'GA',\n",
       "  u'uid': 5419068,\n",
       "  u'zip_code': u'30043'},\n",
       " {u'address': u'1700 North Brown Road',\n",
       "  u'amount': 664.72,\n",
       "  u'country': u'US',\n",
       "  u'created': u'2013-09-15 03:30:55',\n",
       "  u'event': 4909773,\n",
       "  u'name': u'RUF',\n",
       "  u'state': u'GA',\n",
       "  u'uid': 5419068,\n",
       "  u'zip_code': u'30043'},\n",
       " {u'address': u'1700 North Brown Road',\n",
       "  u'amount': 28941.9,\n",
       "  u'country': u'US',\n",
       "  u'created': u'2013-09-15 03:30:55',\n",
       "  u'event': 7579105,\n",
       "  u'name': u'RUF',\n",
       "  u'state': u'GA',\n",
       "  u'uid': 5419068,\n",
       "  u'zip_code': u'30043'},\n",
       " {u'address': u'1700 North Brown Road',\n",
       "  u'amount': 14657.28,\n",
       "  u'country': u'US',\n",
       "  u'created': u'2013-09-27 03:13:28',\n",
       "  u'event': 7579105,\n",
       "  u'name': u'RUF',\n",
       "  u'state': u'GA',\n",
       "  u'uid': 5419068,\n",
       "  u'zip_code': u'30043'},\n",
       " {u'address': u'1700 North Brown Road',\n",
       "  u'amount': 4715.34,\n",
       "  u'country': u'US',\n",
       "  u'created': u'2013-10-04 03:12:18',\n",
       "  u'event': 4909773,\n",
       "  u'name': u'RUF',\n",
       "  u'state': u'GA',\n",
       "  u'uid': 5419068,\n",
       "  u'zip_code': u'30043'}]"
      ]
     },
     "execution_count": 237,
     "metadata": {},
     "output_type": "execute_result"
    }
   ],
   "source": [
    "df.previous_payouts[1]"
   ]
  },
  {
   "cell_type": "code",
   "execution_count": 166,
   "metadata": {
    "collapsed": false,
    "scrolled": false
   },
   "outputs": [
    {
     "name": "stdout",
     "output_type": "stream",
     "text": [
      "acct_type 12\n",
      "currency 7\n",
      "description 13095\n",
      "name 13940\n",
      "org_desc 5845\n",
      "org_name 9501\n",
      "payee_name 2481\n",
      "payout_type 3\n",
      "previous_payouts // to investigate\n",
      "ticket_types // to investigate\n",
      "venue_address 10142\n",
      "venue_country 70\n",
      "venue_name 9788\n",
      "venue_state 443\n",
      "category 5\n"
     ]
    }
   ],
   "source": [
    "cat_columns = [col for col in df.columns if df[col].dtype == 'object']\n",
    "for col in cat_columns:\n",
    "    try:\n",
    "        print col, len(df[col].unique())\n",
    "    except:\n",
    "        print '// to investigate'"
   ]
  },
  {
   "cell_type": "markdown",
   "metadata": {},
   "source": [
    "### Currency"
   ]
  },
  {
   "cell_type": "code",
   "execution_count": 156,
   "metadata": {
    "collapsed": false,
    "scrolled": true
   },
   "outputs": [],
   "source": [
    "df = df.join(pd.get_dummies(df.currency).drop(['NZD', 'MXN'], axis=1))"
   ]
  },
  {
   "cell_type": "markdown",
   "metadata": {},
   "source": [
    "### Listed"
   ]
  },
  {
   "cell_type": "code",
   "execution_count": 160,
   "metadata": {
    "collapsed": false
   },
   "outputs": [],
   "source": [
    "df.listed = (df.listed == 'y')"
   ]
  },
  {
   "cell_type": "markdown",
   "metadata": {},
   "source": [
    "### Payout_type"
   ]
  },
  {
   "cell_type": "code",
   "execution_count": 174,
   "metadata": {
    "collapsed": false,
    "scrolled": true
   },
   "outputs": [
    {
     "data": {
      "text/plain": [
       "ACH      10666\n",
       "CHECK     3178\n",
       "           493\n",
       "Name: payout_type, dtype: int64"
      ]
     },
     "execution_count": 174,
     "metadata": {},
     "output_type": "execute_result"
    }
   ],
   "source": [
    "df.payout_type.value_counts()"
   ]
  },
  {
   "cell_type": "code",
   "execution_count": 173,
   "metadata": {
    "collapsed": false
   },
   "outputs": [
    {
     "data": {
      "text/html": [
       "<div>\n",
       "<table border=\"1\" class=\"dataframe\">\n",
       "  <thead>\n",
       "    <tr style=\"text-align: right;\">\n",
       "      <th></th>\n",
       "      <th>is_fraud</th>\n",
       "    </tr>\n",
       "    <tr>\n",
       "      <th>payout_type</th>\n",
       "      <th></th>\n",
       "    </tr>\n",
       "  </thead>\n",
       "  <tbody>\n",
       "    <tr>\n",
       "      <th></th>\n",
       "      <td>0.914807</td>\n",
       "    </tr>\n",
       "    <tr>\n",
       "      <th>ACH</th>\n",
       "      <td>0.076130</td>\n",
       "    </tr>\n",
       "    <tr>\n",
       "      <th>CHECK</th>\n",
       "      <td>0.009440</td>\n",
       "    </tr>\n",
       "  </tbody>\n",
       "</table>\n",
       "</div>"
      ],
      "text/plain": [
       "             is_fraud\n",
       "payout_type          \n",
       "             0.914807\n",
       "ACH          0.076130\n",
       "CHECK        0.009440"
      ]
     },
     "execution_count": 173,
     "metadata": {},
     "output_type": "execute_result"
    }
   ],
   "source": [
    "fraud_by('payout_type')"
   ]
  },
  {
   "cell_type": "code",
   "execution_count": 175,
   "metadata": {
    "collapsed": true
   },
   "outputs": [],
   "source": [
    "df['is_check'] = (df.payout_type == 'CHECK')"
   ]
  },
  {
   "cell_type": "code",
   "execution_count": 176,
   "metadata": {
    "collapsed": true
   },
   "outputs": [],
   "source": [
    "df = df.drop('payout_type', axis=1)"
   ]
  },
  {
   "cell_type": "code",
   "execution_count": 192,
   "metadata": {
    "collapsed": false
   },
   "outputs": [],
   "source": [
    "df = df.join(pd.get_dummies(df.delivery_method, prefix='delivery_method').drop('delivery_method_3.0', axis=1))"
   ]
  },
  {
   "cell_type": "markdown",
   "metadata": {},
   "source": [
    "## Missing values"
   ]
  },
  {
   "cell_type": "code",
   "execution_count": 208,
   "metadata": {
    "collapsed": false,
    "scrolled": true
   },
   "outputs": [
    {
     "name": "stderr",
     "output_type": "stream",
     "text": [
      "/Users/nathankiner/anaconda/lib/python2.7/site-packages/ipykernel/__main__.py:1: SettingWithCopyWarning: \n",
      "A value is trying to be set on a copy of a slice from a DataFrame\n",
      "\n",
      "See the caveats in the documentation: http://pandas.pydata.org/pandas-docs/stable/indexing.html#indexing-view-versus-copy\n",
      "  if __name__ == '__main__':\n"
     ]
    }
   ],
   "source": [
    "df.has_header[df.has_header.isnull()] = 0"
   ]
  },
  {
   "cell_type": "code",
   "execution_count": 209,
   "metadata": {
    "collapsed": true
   },
   "outputs": [],
   "source": [
    "df['has_venue'] = ~df.venue_latitude.isnull()"
   ]
  },
  {
   "cell_type": "markdown",
   "metadata": {},
   "source": [
    "# Plotting histograms"
   ]
  },
  {
   "cell_type": "code",
   "execution_count": 40,
   "metadata": {
    "collapsed": true
   },
   "outputs": [
    {
     "data": {
      "image/png": "[encoded data removed]",
      "text/plain": [
       "<matplotlib.figure.Figure at 0x125f06190>"
      ]
     },
     "metadata": {},
     "output_type": "display_data"
    },
    {
     "data": {
      "image/png": "[encoded data removed]",
      "text/plain": [
       "<matplotlib.figure.Figure at 0x128cfb850>"
      ]
     },
     "metadata": {},
     "output_type": "display_data"
    },
    {
     "data": {
      "image/png": "[encoded data removed]",
      "text/plain": [
       "<matplotlib.figure.Figure at 0x12683b3d0>"
      ]
     },
     "metadata": {},
     "output_type": "display_data"
    },
    {
     "data": {
      "image/png": "[encoded data removed]",
      "text/plain": [
       "<matplotlib.figure.Figure at 0x11b19c450>"
      ]
     },
     "metadata": {},
     "output_type": "display_data"
    },
    {
     "data": {
      "image/png": "[encoded data removed]",
      "text/plain": [
       "<matplotlib.figure.Figure at 0x1256a0750>"
      ]
     },
     "metadata": {},
     "output_type": "display_data"
    },
    {
     "data": {
      "image/png": "[encoded data removed]",
      "text/plain": [
       "<matplotlib.figure.Figure at 0x126d57910>"
      ]
     },
     "metadata": {},
     "output_type": "display_data"
    },
    {
     "data": {
      "image/png": "[encoded data removed]",
      "text/plain": [
       "<matplotlib.figure.Figure at 0x1266a0990>"
      ]
     },
     "metadata": {},
     "output_type": "display_data"
    }
   ],
   "source": [
    "for col in cols[:7]:\n",
    "    g = sns.FacetGrid(df[df['category'].isin(['premium', 'fraudster', 'spammer'])], hue='category', size=4, aspect=2)\n",
    "    g.map(plt.hist, col, alpha=.4, normed=True, bins=30)\n",
    "    plt.legend()\n",
    "    plt.show()"
   ]
  },
  {
   "cell_type": "code",
   "execution_count": 36,
   "metadata": {
    "collapsed": true
   },
   "outputs": [
    {
     "data": {
      "image/png": "[encoded data removed]",
      "text/plain": [
       "<matplotlib.figure.Figure at 0x127cd7d50>"
      ]
     },
     "metadata": {},
     "output_type": "display_data"
    },
    {
     "data": {
      "image/png": "[encoded data removed]",
      "text/plain": [
       "<matplotlib.figure.Figure at 0x126823d90>"
      ]
     },
     "metadata": {},
     "output_type": "display_data"
    },
    {
     "data": {
      "image/png": "[encoded data removed]",
      "text/plain": [
       "<matplotlib.figure.Figure at 0x128e83ad0>"
      ]
     },
     "metadata": {},
     "output_type": "display_data"
    },
    {
     "data": {
      "image/png": "[encoded data removed]",
      "text/plain": [
       "<matplotlib.figure.Figure at 0x1255138d0>"
      ]
     },
     "metadata": {},
     "output_type": "display_data"
    },
    {
     "data": {
      "image/png": "[encoded data removed]",
      "text/plain": [
       "<matplotlib.figure.Figure at 0x125f35490>"
      ]
     },
     "metadata": {},
     "output_type": "display_data"
    },
    {
     "data": {
      "image/png": "[encoded data removed]",
      "text/plain": [
       "<matplotlib.figure.Figure at 0x11b1ae190>"
      ]
     },
     "metadata": {},
     "output_type": "display_data"
    },
    {
     "data": {
      "image/png": "[encoded data removed]",
      "text/plain": [
       "<matplotlib.figure.Figure at 0x11bc83c50>"
      ]
     },
     "metadata": {},
     "output_type": "display_data"
    }
   ],
   "source": [
    "for col in cols[7:14]:\n",
    "    g = sns.FacetGrid(df[df['category'].isin(['premium', 'fraudster'])], hue='category', size=4, aspect=2)\n",
    "    g.map(plt.hist, col, alpha=.4, normed=True, bins=30)\n",
    "    plt.legend()\n",
    "    plt.show()"
   ]
  },
  {
   "cell_type": "code",
   "execution_count": 37,
   "metadata": {
    "collapsed": true
   },
   "outputs": [
    {
     "data": {
      "image/png": "[encoded data removed]",
      "text/plain": [
       "<matplotlib.figure.Figure at 0x11bc9ef10>"
      ]
     },
     "metadata": {},
     "output_type": "display_data"
    },
    {
     "data": {
      "image/png": "[encoded data removed]",
      "text/plain": [
       "<matplotlib.figure.Figure at 0x118b04290>"
      ]
     },
     "metadata": {},
     "output_type": "display_data"
    },
    {
     "data": {
      "image/png": "[encoded data removed]",
      "text/plain": [
       "<matplotlib.figure.Figure at 0x12547b8d0>"
      ]
     },
     "metadata": {},
     "output_type": "display_data"
    },
    {
     "data": {
      "image/png": "[encoded data removed]",
      "text/plain": [
       "<matplotlib.figure.Figure at 0x11afb8290>"
      ]
     },
     "metadata": {},
     "output_type": "display_data"
    },
    {
     "data": {
      "image/png": "[encoded data removed]",
      "text/plain": [
       "<matplotlib.figure.Figure at 0x1297df5d0>"
      ]
     },
     "metadata": {},
     "output_type": "display_data"
    },
    {
     "data": {
      "image/png": "[encoded data removed]",
      "text/plain": [
       "<matplotlib.figure.Figure at 0x11bc8b4d0>"
      ]
     },
     "metadata": {},
     "output_type": "display_data"
    },
    {
     "data": {
      "image/png": "[encoded data removed]",
      "text/plain": [
       "<matplotlib.figure.Figure at 0x1261c4510>"
      ]
     },
     "metadata": {},
     "output_type": "display_data"
    }
   ],
   "source": [
    "for col in cols[14:21]:\n",
    "    g = sns.FacetGrid(df[df['category'].isin(['premium', 'fraudster'])], hue='category', size=4, aspect=2)\n",
    "    g.map(plt.hist, col, alpha=.4, normed=True, bins=30)\n",
    "    plt.legend()\n",
    "    plt.show()"
   ]
  },
  {
   "cell_type": "code",
   "execution_count": 39,
   "metadata": {
    "collapsed": true
   },
   "outputs": [
    {
     "data": {
      "image/png": "[encoded data removed]",
      "text/plain": [
       "<matplotlib.figure.Figure at 0x11bcab190>"
      ]
     },
     "metadata": {},
     "output_type": "display_data"
    },
    {
     "data": {
      "image/png": "[encoded data removed]",
      "text/plain": [
       "<matplotlib.figure.Figure at 0x126d81cd0>"
      ]
     },
     "metadata": {},
     "output_type": "display_data"
    },
    {
     "data": {
      "image/png": "[encoded data removed]",
      "text/plain": [
       "<matplotlib.figure.Figure at 0x128e37d50>"
      ]
     },
     "metadata": {},
     "output_type": "display_data"
    },
    {
     "data": {
      "image/png": "[encoded data removed]",
      "text/plain": [
       "<matplotlib.figure.Figure at 0x129898dd0>"
      ]
     },
     "metadata": {},
     "output_type": "display_data"
    },
    {
     "data": {
      "image/png": "[encoded data removed]",
      "text/plain": [
       "<matplotlib.figure.Figure at 0x11bc548d0>"
      ]
     },
     "metadata": {},
     "output_type": "display_data"
    },
    {
     "data": {
      "image/png": "[encoded data removed]",
      "text/plain": [
       "<matplotlib.figure.Figure at 0x125b6dd90>"
      ]
     },
     "metadata": {},
     "output_type": "display_data"
    }
   ],
   "source": [
    "for col in cols[21:]:\n",
    "    g = sns.FacetGrid(df[df['category'].isin(['premium', 'fraudster', 'spammer'])], hue='category', size=4, aspect=2)\n",
    "    g.map(plt.hist, col, alpha=.4, normed=True, bins=30)\n",
    "    plt.legend()\n",
    "    plt.show()"
   ]
  },
  {
   "cell_type": "markdown",
   "metadata": {},
   "source": [
    "# Cross-validate"
   ]
  },
  {
   "cell_type": "code",
   "execution_count": 180,
   "metadata": {
    "collapsed": true
   },
   "outputs": [],
   "source": [
    "from sklearn.cross_validation import train_test_split, cross_val_score\n",
    "import xgboost"
   ]
  },
  {
   "cell_type": "code",
   "execution_count": 210,
   "metadata": {
    "collapsed": false
   },
   "outputs": [],
   "source": [
    "model_df = df[[col for col in df.columns if df[col].dtype != 'object']]"
   ]
  },
  {
   "cell_type": "code",
   "execution_count": 214,
   "metadata": {
    "collapsed": true
   },
   "outputs": [],
   "source": [
    "model_df = model_df.drop(['body_length', 'delivery_method', 'event_created', 'event_end', 'event_start', 'user_created',\n",
    " 'venue_latitude', 'venue_longitude'], axis=1).dropna()"
   ]
  },
  {
   "cell_type": "code",
   "execution_count": 215,
   "metadata": {
    "collapsed": false
   },
   "outputs": [],
   "source": [
    "X = model_df.drop('is_fraud', axis=1).values\n",
    "y = model_df.is_fraud.values\n",
    "X_train, X_test, y_train, y_test = train_test_split(X, y, test_size = .2)\n",
    "from sklearn.linear_model import LogisticRegressionCV\n",
    "lr1 = LogisticRegressionCV(class_weight='balanced')"
   ]
  },
  {
   "cell_type": "code",
   "execution_count": 220,
   "metadata": {
    "collapsed": true
   },
   "outputs": [],
   "source": [
    "xgb = xgboost.XGBClassifier()"
   ]
  },
  {
   "cell_type": "code",
   "execution_count": 223,
   "metadata": {
    "collapsed": false
   },
   "outputs": [
    {
     "name": "stdout",
     "output_type": "stream",
     "text": [
      "[CV] no parameters to be set .........................................\n",
      "[CV] no parameters to be set .........................................\n",
      "[CV] no parameters to be set .........................................\n",
      "[CV] no parameters to be set .........................................\n",
      "[CV] ................ no parameters to be set, score=0.993153 -   1.4s\n",
      "[CV] ................ no parameters to be set, score=0.995190 -   1.4s\n",
      "[CV] no parameters to be set .........................................\n",
      "[CV] ................ no parameters to be set, score=0.988505 -   1.4s\n",
      "[CV] ................ no parameters to be set, score=0.986415 -   1.4s\n",
      "[CV] ................ no parameters to be set, score=0.992302 -   1.0s\n"
     ]
    },
    {
     "name": "stderr",
     "output_type": "stream",
     "text": [
      "[Parallel(n_jobs=-1)]: Done   5 out of   5 | elapsed:    2.9s finished\n"
     ]
    },
    {
     "data": {
      "text/plain": [
       "0.99111290334255941"
      ]
     },
     "execution_count": 223,
     "metadata": {},
     "output_type": "execute_result"
    }
   ],
   "source": [
    "cross_val_score(xgb, X_train, y=y_train, scoring='roc_auc',\n",
    "                        cv=5, n_jobs=-1, verbose=5).mean()"
   ]
  },
  {
   "cell_type": "code",
   "execution_count": 224,
   "metadata": {
    "collapsed": true
   },
   "outputs": [],
   "source": [
    "import BuildModel as bm\n",
    "\n",
    "model = bm.BuildModel(X, y, {}, model=xgboost.XGBClassifier)\n",
    "\n",
    "model.test(.1, 5, 'recall')"
   ]
  },
  {
   "cell_type": "code",
   "execution_count": 240,
   "metadata": {
    "collapsed": false
   },
   "outputs": [
    {
     "data": {
      "image/png": "[encoded data removed]",
      "text/plain": [
       "<matplotlib.figure.Figure at 0x1260056d0>"
      ]
     },
     "metadata": {},
     "output_type": "display_data"
    }
   ],
   "source": [
    "xgb.fit(X_train, y_train)\n",
    "plot = xgboost.plot_importance(xgb)\n",
    "ticks = plot.set_yticklabels(model_df.drop('is_fraud', axis=1).columns)"
   ]
  },
  {
   "cell_type": "code",
   "execution_count": 244,
   "metadata": {
    "collapsed": false
   },
   "outputs": [
    {
     "data": {
      "text/plain": [
       "Index([ u'approx_payout_date',            u'channels',        u'fb_published',\n",
       "                       u'gts',       u'has_analytics',          u'has_header',\n",
       "                  u'has_logo',              u'listed',         u'name_length',\n",
       "                 u'num_order',         u'num_payouts',        u'org_facebook',\n",
       "               u'org_twitter',            u'show_map',            u'user_age',\n",
       "                 u'user_type',         u'has_country',       u'country_count',\n",
       "         u'log_country_count',           u'email_pop',      u'event_duration',\n",
       "       u'days_to_event_start',     u'has_body_length',     u'log_body_length',\n",
       "                       u'AUD',                 u'CAD',                 u'EUR',\n",
       "                       u'GBP',                 u'USD',            u'is_check',\n",
       "       u'delivery_method_0.0', u'delivery_method_1.0',           u'has_venue'],\n",
       "      dtype='object')"
      ]
     },
     "execution_count": 244,
     "metadata": {},
     "output_type": "execute_result"
    }
   ],
   "source": [
    "model_df.drop('is_fraud', axis=1).columns"
   ]
  },
  {
   "cell_type": "code",
   "execution_count": 247,
   "metadata": {
    "collapsed": false
   },
   "outputs": [
    {
     "ename": "ValueError",
     "evalue": "Cannot convert NA to integer",
     "output_type": "error",
     "traceback": [
      "\u001b[0;31m------------------------------------------------------------------------\u001b[0m",
      "\u001b[0;31mValueError\u001b[0m                             Traceback (most recent call last)",
      "\u001b[0;32m<ipython-input-247-2274b25e1deb>\u001b[0m in \u001b[0;36m<module>\u001b[0;34m()\u001b[0m\n\u001b[0;32m----> 1\u001b[0;31m \u001b[0mpd\u001b[0m\u001b[0;34m.\u001b[0m\u001b[0mget_dummies\u001b[0m\u001b[0;34m(\u001b[0m\u001b[0mdf\u001b[0m\u001b[0;34m.\u001b[0m\u001b[0mdelivery_method\u001b[0m\u001b[0;34m.\u001b[0m\u001b[0mastype\u001b[0m\u001b[0;34m(\u001b[0m\u001b[0mint\u001b[0m\u001b[0;34m)\u001b[0m\u001b[0;34m,\u001b[0m \u001b[0mprefix\u001b[0m\u001b[0;34m=\u001b[0m\u001b[0;34m'delivery_method'\u001b[0m\u001b[0;34m)\u001b[0m\u001b[0;34m\u001b[0m\u001b[0m\n\u001b[0m",
      "\u001b[0;32m/Users/nathankiner/anaconda/lib/python2.7/site-packages/pandas/core/generic.pyc\u001b[0m in \u001b[0;36mastype\u001b[0;34m(self, dtype, copy, raise_on_error, **kwargs)\u001b[0m\n\u001b[1;32m   2948\u001b[0m \u001b[0;34m\u001b[0m\u001b[0m\n\u001b[1;32m   2949\u001b[0m         mgr = self._data.astype(dtype=dtype, copy=copy,\n\u001b[0;32m-> 2950\u001b[0;31m                                 raise_on_error=raise_on_error, **kwargs)\n\u001b[0m\u001b[1;32m   2951\u001b[0m         \u001b[0;32mreturn\u001b[0m \u001b[0mself\u001b[0m\u001b[0;34m.\u001b[0m\u001b[0m_constructor\u001b[0m\u001b[0;34m(\u001b[0m\u001b[0mmgr\u001b[0m\u001b[0;34m)\u001b[0m\u001b[0;34m.\u001b[0m\u001b[0m__finalize__\u001b[0m\u001b[0;34m(\u001b[0m\u001b[0mself\u001b[0m\u001b[0;34m)\u001b[0m\u001b[0;34m\u001b[0m\u001b[0m\n\u001b[1;32m   2952\u001b[0m \u001b[0;34m\u001b[0m\u001b[0m\n",
      "\u001b[0;32m/Users/nathankiner/anaconda/lib/python2.7/site-packages/pandas/core/internals.pyc\u001b[0m in \u001b[0;36mastype\u001b[0;34m(self, dtype, **kwargs)\u001b[0m\n\u001b[1;32m   2936\u001b[0m \u001b[0;34m\u001b[0m\u001b[0m\n\u001b[1;32m   2937\u001b[0m     \u001b[0;32mdef\u001b[0m \u001b[0mastype\u001b[0m\u001b[0;34m(\u001b[0m\u001b[0mself\u001b[0m\u001b[0;34m,\u001b[0m \u001b[0mdtype\u001b[0m\u001b[0;34m,\u001b[0m \u001b[0;34m**\u001b[0m\u001b[0mkwargs\u001b[0m\u001b[0;34m)\u001b[0m\u001b[0;34m:\u001b[0m\u001b[0;34m\u001b[0m\u001b[0m\n\u001b[0;32m-> 2938\u001b[0;31m         \u001b[0;32mreturn\u001b[0m \u001b[0mself\u001b[0m\u001b[0;34m.\u001b[0m\u001b[0mapply\u001b[0m\u001b[0;34m(\u001b[0m\u001b[0;34m'astype'\u001b[0m\u001b[0;34m,\u001b[0m \u001b[0mdtype\u001b[0m\u001b[0;34m=\u001b[0m\u001b[0mdtype\u001b[0m\u001b[0;34m,\u001b[0m \u001b[0;34m**\u001b[0m\u001b[0mkwargs\u001b[0m\u001b[0;34m)\u001b[0m\u001b[0;34m\u001b[0m\u001b[0m\n\u001b[0m\u001b[1;32m   2939\u001b[0m \u001b[0;34m\u001b[0m\u001b[0m\n\u001b[1;32m   2940\u001b[0m     \u001b[0;32mdef\u001b[0m \u001b[0mconvert\u001b[0m\u001b[0;34m(\u001b[0m\u001b[0mself\u001b[0m\u001b[0;34m,\u001b[0m \u001b[0;34m**\u001b[0m\u001b[0mkwargs\u001b[0m\u001b[0;34m)\u001b[0m\u001b[0;34m:\u001b[0m\u001b[0;34m\u001b[0m\u001b[0m\n",
      "\u001b[0;32m/Users/nathankiner/anaconda/lib/python2.7/site-packages/pandas/core/internals.pyc\u001b[0m in \u001b[0;36mapply\u001b[0;34m(self, f, axes, filter, do_integrity_check, consolidate, raw, **kwargs)\u001b[0m\n\u001b[1;32m   2888\u001b[0m \u001b[0;34m\u001b[0m\u001b[0m\n\u001b[1;32m   2889\u001b[0m             \u001b[0mkwargs\u001b[0m\u001b[0;34m[\u001b[0m\u001b[0;34m'mgr'\u001b[0m\u001b[0;34m]\u001b[0m \u001b[0;34m=\u001b[0m \u001b[0mself\u001b[0m\u001b[0;34m\u001b[0m\u001b[0m\n\u001b[0;32m-> 2890\u001b[0;31m             \u001b[0mapplied\u001b[0m \u001b[0;34m=\u001b[0m \u001b[0mgetattr\u001b[0m\u001b[0;34m(\u001b[0m\u001b[0mb\u001b[0m\u001b[0;34m,\u001b[0m \u001b[0mf\u001b[0m\u001b[0;34m)\u001b[0m\u001b[0;34m(\u001b[0m\u001b[0;34m**\u001b[0m\u001b[0mkwargs\u001b[0m\u001b[0;34m)\u001b[0m\u001b[0;34m\u001b[0m\u001b[0m\n\u001b[0m\u001b[1;32m   2891\u001b[0m             \u001b[0mresult_blocks\u001b[0m \u001b[0;34m=\u001b[0m \u001b[0m_extend_blocks\u001b[0m\u001b[0;34m(\u001b[0m\u001b[0mapplied\u001b[0m\u001b[0;34m,\u001b[0m \u001b[0mresult_blocks\u001b[0m\u001b[0;34m)\u001b[0m\u001b[0;34m\u001b[0m\u001b[0m\n\u001b[1;32m   2892\u001b[0m \u001b[0;34m\u001b[0m\u001b[0m\n",
      "\u001b[0;32m/Users/nathankiner/anaconda/lib/python2.7/site-packages/pandas/core/internals.pyc\u001b[0m in \u001b[0;36mastype\u001b[0;34m(self, dtype, copy, raise_on_error, values, **kwargs)\u001b[0m\n\u001b[1;32m    432\u001b[0m                **kwargs):\n\u001b[1;32m    433\u001b[0m         return self._astype(dtype, copy=copy, raise_on_error=raise_on_error,\n\u001b[0;32m--> 434\u001b[0;31m                             values=values, **kwargs)\n\u001b[0m\u001b[1;32m    435\u001b[0m \u001b[0;34m\u001b[0m\u001b[0m\n\u001b[1;32m    436\u001b[0m     def _astype(self, dtype, copy=False, raise_on_error=True, values=None,\n",
      "\u001b[0;32m/Users/nathankiner/anaconda/lib/python2.7/site-packages/pandas/core/internals.pyc\u001b[0m in \u001b[0;36m_astype\u001b[0;34m(self, dtype, copy, raise_on_error, values, klass, mgr, **kwargs)\u001b[0m\n\u001b[1;32m    475\u001b[0m \u001b[0;34m\u001b[0m\u001b[0m\n\u001b[1;32m    476\u001b[0m                 \u001b[0;31m# _astype_nansafe works fine with 1-d only\u001b[0m\u001b[0;34m\u001b[0m\u001b[0;34m\u001b[0m\u001b[0m\n\u001b[0;32m--> 477\u001b[0;31m                 \u001b[0mvalues\u001b[0m \u001b[0;34m=\u001b[0m \u001b[0mcom\u001b[0m\u001b[0;34m.\u001b[0m\u001b[0m_astype_nansafe\u001b[0m\u001b[0;34m(\u001b[0m\u001b[0mvalues\u001b[0m\u001b[0;34m.\u001b[0m\u001b[0mravel\u001b[0m\u001b[0;34m(\u001b[0m\u001b[0;34m)\u001b[0m\u001b[0;34m,\u001b[0m \u001b[0mdtype\u001b[0m\u001b[0;34m,\u001b[0m \u001b[0mcopy\u001b[0m\u001b[0;34m=\u001b[0m\u001b[0mTrue\u001b[0m\u001b[0;34m)\u001b[0m\u001b[0;34m\u001b[0m\u001b[0m\n\u001b[0m\u001b[1;32m    478\u001b[0m                 \u001b[0mvalues\u001b[0m \u001b[0;34m=\u001b[0m \u001b[0mvalues\u001b[0m\u001b[0;34m.\u001b[0m\u001b[0mreshape\u001b[0m\u001b[0;34m(\u001b[0m\u001b[0mself\u001b[0m\u001b[0;34m.\u001b[0m\u001b[0mshape\u001b[0m\u001b[0;34m)\u001b[0m\u001b[0;34m\u001b[0m\u001b[0m\n\u001b[1;32m    479\u001b[0m \u001b[0;34m\u001b[0m\u001b[0m\n",
      "\u001b[0;32m/Users/nathankiner/anaconda/lib/python2.7/site-packages/pandas/core/common.pyc\u001b[0m in \u001b[0;36m_astype_nansafe\u001b[0;34m(arr, dtype, copy)\u001b[0m\n\u001b[1;32m   1912\u001b[0m \u001b[0;34m\u001b[0m\u001b[0m\n\u001b[1;32m   1913\u001b[0m         \u001b[0;32mif\u001b[0m \u001b[0mnp\u001b[0m\u001b[0;34m.\u001b[0m\u001b[0misnan\u001b[0m\u001b[0;34m(\u001b[0m\u001b[0marr\u001b[0m\u001b[0;34m)\u001b[0m\u001b[0;34m.\u001b[0m\u001b[0many\u001b[0m\u001b[0;34m(\u001b[0m\u001b[0;34m)\u001b[0m\u001b[0;34m:\u001b[0m\u001b[0;34m\u001b[0m\u001b[0m\n\u001b[0;32m-> 1914\u001b[0;31m             \u001b[0;32mraise\u001b[0m \u001b[0mValueError\u001b[0m\u001b[0;34m(\u001b[0m\u001b[0;34m'Cannot convert NA to integer'\u001b[0m\u001b[0;34m)\u001b[0m\u001b[0;34m\u001b[0m\u001b[0m\n\u001b[0m\u001b[1;32m   1915\u001b[0m     \u001b[0;32melif\u001b[0m \u001b[0marr\u001b[0m\u001b[0;34m.\u001b[0m\u001b[0mdtype\u001b[0m \u001b[0;34m==\u001b[0m \u001b[0mnp\u001b[0m\u001b[0;34m.\u001b[0m\u001b[0mobject_\u001b[0m \u001b[0;32mand\u001b[0m \u001b[0mnp\u001b[0m\u001b[0;34m.\u001b[0m\u001b[0missubdtype\u001b[0m\u001b[0;34m(\u001b[0m\u001b[0mdtype\u001b[0m\u001b[0;34m.\u001b[0m\u001b[0mtype\u001b[0m\u001b[0;34m,\u001b[0m \u001b[0mnp\u001b[0m\u001b[0;34m.\u001b[0m\u001b[0minteger\u001b[0m\u001b[0;34m)\u001b[0m\u001b[0;34m:\u001b[0m\u001b[0;34m\u001b[0m\u001b[0m\n\u001b[1;32m   1916\u001b[0m         \u001b[0;31m# work around NumPy brokenness, #1987\u001b[0m\u001b[0;34m\u001b[0m\u001b[0;34m\u001b[0m\u001b[0m\n",
      "\u001b[0;31mValueError\u001b[0m: Cannot convert NA to integer"
     ]
    }
   ],
   "source": [
    "pd.get_dummies(df.delivery_method.astype(int), prefix='delivery_method')"
   ]
  },
  {
   "cell_type": "code",
   "execution_count": 259,
   "metadata": {
    "collapsed": false
   },
   "outputs": [
    {
     "data": {
      "text/plain": [
       "0    8536\n",
       "1    5554\n",
       "3     247\n",
       "Name: delivery_method, dtype: int64"
      ]
     },
     "execution_count": 259,
     "metadata": {},
     "output_type": "execute_result"
    }
   ],
   "source": [
    "df.delivery_method.fillna(df.delivery_method.mode()[0]).astype(int).value_counts()"
   ]
  },
  {
   "cell_type": "code",
   "execution_count": 260,
   "metadata": {
    "collapsed": false
   },
   "outputs": [
    {
     "name": "stdout",
     "output_type": "stream",
     "text": [
      "<class 'pandas.core.frame.DataFrame'>\n",
      "Int64Index: 14337 entries, 0 to 14336\n",
      "Data columns (total 44 columns):\n",
      "acct_type             14337 non-null object\n",
      "approx_payout_date    14337 non-null int64\n",
      "body_length           14337 non-null int64\n",
      "channels              14337 non-null int64\n",
      "country               14256 non-null object\n",
      "currency              14337 non-null object\n",
      "delivery_method       14321 non-null float64\n",
      "description           14337 non-null object\n",
      "email_domain          14337 non-null object\n",
      "event_created         14337 non-null int64\n",
      "event_end             14337 non-null int64\n",
      "event_published       14238 non-null float64\n",
      "event_start           14337 non-null int64\n",
      "fb_published          14337 non-null int64\n",
      "gts                   14337 non-null float64\n",
      "has_analytics         14337 non-null int64\n",
      "has_header            8928 non-null float64\n",
      "has_logo              14337 non-null int64\n",
      "listed                14337 non-null object\n",
      "name                  14337 non-null object\n",
      "name_length           14337 non-null int64\n",
      "num_order             14337 non-null int64\n",
      "num_payouts           14337 non-null int64\n",
      "object_id             14337 non-null int64\n",
      "org_desc              14337 non-null object\n",
      "org_facebook          14278 non-null float64\n",
      "org_name              14337 non-null object\n",
      "org_twitter           14278 non-null float64\n",
      "payee_name            14337 non-null object\n",
      "payout_type           14337 non-null object\n",
      "previous_payouts      14337 non-null object\n",
      "sale_duration         14182 non-null float64\n",
      "sale_duration2        14337 non-null int64\n",
      "show_map              14337 non-null int64\n",
      "ticket_types          14337 non-null object\n",
      "user_age              14337 non-null int64\n",
      "user_created          14337 non-null int64\n",
      "user_type             14337 non-null int64\n",
      "venue_address         14337 non-null object\n",
      "venue_country         13261 non-null object\n",
      "venue_latitude        13261 non-null float64\n",
      "venue_longitude       13261 non-null float64\n",
      "venue_name            13261 non-null object\n",
      "venue_state           13261 non-null object\n",
      "dtypes: float64(9), int64(18), object(17)\n",
      "memory usage: 4.9+ MB\n"
     ]
    }
   ],
   "source": [
    "df.info()"
   ]
  },
  {
   "cell_type": "code",
   "execution_count": 8,
   "metadata": {
    "collapsed": false
   },
   "outputs": [],
   "source": [
    "a = df.venue_name"
   ]
  },
  {
   "cell_type": "code",
   "execution_count": 14,
   "metadata": {
    "collapsed": false
   },
   "outputs": [
    {
     "data": {
      "text/plain": [
       "0        8.256348\n",
       "1        8.160232\n",
       "2        7.863651\n",
       "3        9.421168\n",
       "4        7.790282\n",
       "5        4.762174\n",
       "6        3.332205\n",
       "7        6.881411\n",
       "8        8.386629\n",
       "9        6.881411\n",
       "10       8.388678\n",
       "11       7.425954\n",
       "12       8.978787\n",
       "13       8.873188\n",
       "14       9.216024\n",
       "15       7.387090\n",
       "16       7.374629\n",
       "17       4.997212\n",
       "18       8.127700\n",
       "19       8.706987\n",
       "20       8.169053\n",
       "21       6.113682\n",
       "22       6.609349\n",
       "23       6.697034\n",
       "24       7.301822\n",
       "25       8.087640\n",
       "26       6.768493\n",
       "27       6.163315\n",
       "28       6.987490\n",
       "29       7.550135\n",
       "           ...   \n",
       "14307   -1.000000\n",
       "14308    8.915164\n",
       "14309    8.654517\n",
       "14310    8.516993\n",
       "14311    6.396930\n",
       "14312    6.722630\n",
       "14313   -1.000000\n",
       "14314    8.764678\n",
       "14315    7.039660\n",
       "14316    8.094378\n",
       "14317    8.716208\n",
       "14318    6.104793\n",
       "14319    9.166806\n",
       "14320    6.807935\n",
       "14321    7.775276\n",
       "14322   -1.000000\n",
       "14323    8.478244\n",
       "14324    9.221082\n",
       "14325    6.903747\n",
       "14326    6.293419\n",
       "14327    8.700681\n",
       "14328    9.005650\n",
       "14329    9.386812\n",
       "14330    5.480639\n",
       "14331    8.425078\n",
       "14332    6.502790\n",
       "14333    8.667680\n",
       "14334    6.322565\n",
       "14335    9.294038\n",
       "14336   -1.000000\n",
       "Name: body_length, dtype: float64"
      ]
     },
     "execution_count": 14,
     "metadata": {},
     "output_type": "execute_result"
    }
   ],
   "source": [
    "np.log(df.body_length).replace(-np.inf, -1)"
   ]
  },
  {
   "cell_type": "code",
   "execution_count": 15,
   "metadata": {
    "collapsed": true
   },
   "outputs": [],
   "source": [
    "df['event_duration'] = (df.event_end - df.event_start) / (24*3600)"
   ]
  },
  {
   "cell_type": "code",
   "execution_count": 20,
   "metadata": {
    "collapsed": false
   },
   "outputs": [
    {
     "data": {
      "text/plain": [
       "0.00027899839575922441"
      ]
     },
     "execution_count": 20,
     "metadata": {},
     "output_type": "execute_result"
    }
   ],
   "source": [
    "((pd.to_datetime(df.event_end, unit='s') - pd.to_datetime(df.event_start, unit='s')) / np.timedelta64(1, 'D') < 0).mean()"
   ]
  },
  {
   "cell_type": "code",
   "execution_count": 40,
   "metadata": {
    "collapsed": false
   },
   "outputs": [
    {
     "ename": "ValueError",
     "evalue": "arrays must all be same length",
     "output_type": "error",
     "traceback": [
      "\u001b[0;31m------------------------------------------------------------------------\u001b[0m",
      "\u001b[0;31mValueError\u001b[0m                             Traceback (most recent call last)",
      "\u001b[0;32m<ipython-input-40-ae7c395e8cae>\u001b[0m in \u001b[0;36m<module>\u001b[0;34m()\u001b[0m\n\u001b[1;32m      1\u001b[0m \u001b[0;32mwith\u001b[0m \u001b[0mopen\u001b[0m\u001b[0;34m(\u001b[0m\u001b[0;34m'data/example.json'\u001b[0m\u001b[0;34m)\u001b[0m \u001b[0;32mas\u001b[0m \u001b[0mf\u001b[0m\u001b[0;34m:\u001b[0m\u001b[0;34m\u001b[0m\u001b[0m\n\u001b[1;32m      2\u001b[0m     \u001b[0mexample\u001b[0m \u001b[0;34m=\u001b[0m \u001b[0mjson\u001b[0m\u001b[0;34m.\u001b[0m\u001b[0mloads\u001b[0m\u001b[0;34m(\u001b[0m\u001b[0mf\u001b[0m\u001b[0;34m.\u001b[0m\u001b[0mread\u001b[0m\u001b[0;34m(\u001b[0m\u001b[0;34m)\u001b[0m\u001b[0;34m)\u001b[0m\u001b[0;34m\u001b[0m\u001b[0m\n\u001b[0;32m----> 3\u001b[0;31m \u001b[0mpd\u001b[0m\u001b[0;34m.\u001b[0m\u001b[0mDataFrame\u001b[0m\u001b[0;34m.\u001b[0m\u001b[0mfrom_dict\u001b[0m\u001b[0;34m(\u001b[0m\u001b[0mexample\u001b[0m\u001b[0;34m)\u001b[0m\u001b[0;34m\u001b[0m\u001b[0m\n\u001b[0m",
      "\u001b[0;32m/Users/nathankiner/anaconda/lib/python2.7/site-packages/pandas/core/frame.pyc\u001b[0m in \u001b[0;36mfrom_dict\u001b[0;34m(cls, data, orient, dtype)\u001b[0m\n\u001b[1;32m    807\u001b[0m             \u001b[0;32mraise\u001b[0m \u001b[0mValueError\u001b[0m\u001b[0;34m(\u001b[0m\u001b[0;34m'only recognize index or columns for orient'\u001b[0m\u001b[0;34m)\u001b[0m\u001b[0;34m\u001b[0m\u001b[0m\n\u001b[1;32m    808\u001b[0m \u001b[0;34m\u001b[0m\u001b[0m\n\u001b[0;32m--> 809\u001b[0;31m         \u001b[0;32mreturn\u001b[0m \u001b[0mcls\u001b[0m\u001b[0;34m(\u001b[0m\u001b[0mdata\u001b[0m\u001b[0;34m,\u001b[0m \u001b[0mindex\u001b[0m\u001b[0;34m=\u001b[0m\u001b[0mindex\u001b[0m\u001b[0;34m,\u001b[0m \u001b[0mcolumns\u001b[0m\u001b[0;34m=\u001b[0m\u001b[0mcolumns\u001b[0m\u001b[0;34m,\u001b[0m \u001b[0mdtype\u001b[0m\u001b[0;34m=\u001b[0m\u001b[0mdtype\u001b[0m\u001b[0;34m)\u001b[0m\u001b[0;34m\u001b[0m\u001b[0m\n\u001b[0m\u001b[1;32m    810\u001b[0m \u001b[0;34m\u001b[0m\u001b[0m\n\u001b[1;32m    811\u001b[0m     \u001b[0;34m@\u001b[0m\u001b[0mdeprecate_kwarg\u001b[0m\u001b[0;34m(\u001b[0m\u001b[0mold_arg_name\u001b[0m\u001b[0;34m=\u001b[0m\u001b[0;34m'outtype'\u001b[0m\u001b[0;34m,\u001b[0m \u001b[0mnew_arg_name\u001b[0m\u001b[0;34m=\u001b[0m\u001b[0;34m'orient'\u001b[0m\u001b[0;34m)\u001b[0m\u001b[0;34m\u001b[0m\u001b[0m\n",
      "\u001b[0;32m/Users/nathankiner/anaconda/lib/python2.7/site-packages/pandas/core/frame.pyc\u001b[0m in \u001b[0;36m__init__\u001b[0;34m(self, data, index, columns, dtype, copy)\u001b[0m\n\u001b[1;32m    222\u001b[0m                                  dtype=dtype, copy=copy)\n\u001b[1;32m    223\u001b[0m         \u001b[0;32melif\u001b[0m \u001b[0misinstance\u001b[0m\u001b[0;34m(\u001b[0m\u001b[0mdata\u001b[0m\u001b[0;34m,\u001b[0m \u001b[0mdict\u001b[0m\u001b[0;34m)\u001b[0m\u001b[0;34m:\u001b[0m\u001b[0;34m\u001b[0m\u001b[0m\n\u001b[0;32m--> 224\u001b[0;31m             \u001b[0mmgr\u001b[0m \u001b[0;34m=\u001b[0m \u001b[0mself\u001b[0m\u001b[0;34m.\u001b[0m\u001b[0m_init_dict\u001b[0m\u001b[0;34m(\u001b[0m\u001b[0mdata\u001b[0m\u001b[0;34m,\u001b[0m \u001b[0mindex\u001b[0m\u001b[0;34m,\u001b[0m \u001b[0mcolumns\u001b[0m\u001b[0;34m,\u001b[0m \u001b[0mdtype\u001b[0m\u001b[0;34m=\u001b[0m\u001b[0mdtype\u001b[0m\u001b[0;34m)\u001b[0m\u001b[0;34m\u001b[0m\u001b[0m\n\u001b[0m\u001b[1;32m    225\u001b[0m         \u001b[0;32melif\u001b[0m \u001b[0misinstance\u001b[0m\u001b[0;34m(\u001b[0m\u001b[0mdata\u001b[0m\u001b[0;34m,\u001b[0m \u001b[0mma\u001b[0m\u001b[0;34m.\u001b[0m\u001b[0mMaskedArray\u001b[0m\u001b[0;34m)\u001b[0m\u001b[0;34m:\u001b[0m\u001b[0;34m\u001b[0m\u001b[0m\n\u001b[1;32m    226\u001b[0m             \u001b[0;32mimport\u001b[0m \u001b[0mnumpy\u001b[0m\u001b[0;34m.\u001b[0m\u001b[0mma\u001b[0m\u001b[0;34m.\u001b[0m\u001b[0mmrecords\u001b[0m \u001b[0;32mas\u001b[0m \u001b[0mmrecords\u001b[0m\u001b[0;34m\u001b[0m\u001b[0m\n",
      "\u001b[0;32m/Users/nathankiner/anaconda/lib/python2.7/site-packages/pandas/core/frame.pyc\u001b[0m in \u001b[0;36m_init_dict\u001b[0;34m(self, data, index, columns, dtype)\u001b[0m\n\u001b[1;32m    358\u001b[0m             \u001b[0marrays\u001b[0m \u001b[0;34m=\u001b[0m \u001b[0;34m[\u001b[0m\u001b[0mdata\u001b[0m\u001b[0;34m[\u001b[0m\u001b[0mk\u001b[0m\u001b[0;34m]\u001b[0m \u001b[0;32mfor\u001b[0m \u001b[0mk\u001b[0m \u001b[0;32min\u001b[0m \u001b[0mkeys\u001b[0m\u001b[0;34m]\u001b[0m\u001b[0;34m\u001b[0m\u001b[0m\n\u001b[1;32m    359\u001b[0m \u001b[0;34m\u001b[0m\u001b[0m\n\u001b[0;32m--> 360\u001b[0;31m         \u001b[0;32mreturn\u001b[0m \u001b[0m_arrays_to_mgr\u001b[0m\u001b[0;34m(\u001b[0m\u001b[0marrays\u001b[0m\u001b[0;34m,\u001b[0m \u001b[0mdata_names\u001b[0m\u001b[0;34m,\u001b[0m \u001b[0mindex\u001b[0m\u001b[0;34m,\u001b[0m \u001b[0mcolumns\u001b[0m\u001b[0;34m,\u001b[0m \u001b[0mdtype\u001b[0m\u001b[0;34m=\u001b[0m\u001b[0mdtype\u001b[0m\u001b[0;34m)\u001b[0m\u001b[0;34m\u001b[0m\u001b[0m\n\u001b[0m\u001b[1;32m    361\u001b[0m \u001b[0;34m\u001b[0m\u001b[0m\n\u001b[1;32m    362\u001b[0m     \u001b[0;32mdef\u001b[0m \u001b[0m_init_ndarray\u001b[0m\u001b[0;34m(\u001b[0m\u001b[0mself\u001b[0m\u001b[0;34m,\u001b[0m \u001b[0mvalues\u001b[0m\u001b[0;34m,\u001b[0m \u001b[0mindex\u001b[0m\u001b[0;34m,\u001b[0m \u001b[0mcolumns\u001b[0m\u001b[0;34m,\u001b[0m \u001b[0mdtype\u001b[0m\u001b[0;34m=\u001b[0m\u001b[0mNone\u001b[0m\u001b[0;34m,\u001b[0m \u001b[0mcopy\u001b[0m\u001b[0;34m=\u001b[0m\u001b[0mFalse\u001b[0m\u001b[0;34m)\u001b[0m\u001b[0;34m:\u001b[0m\u001b[0;34m\u001b[0m\u001b[0m\n",
      "\u001b[0;32m/Users/nathankiner/anaconda/lib/python2.7/site-packages/pandas/core/frame.pyc\u001b[0m in \u001b[0;36m_arrays_to_mgr\u001b[0;34m(arrays, arr_names, index, columns, dtype)\u001b[0m\n\u001b[1;32m   5229\u001b[0m     \u001b[0;31m# figure out the index, if necessary\u001b[0m\u001b[0;34m\u001b[0m\u001b[0;34m\u001b[0m\u001b[0m\n\u001b[1;32m   5230\u001b[0m     \u001b[0;32mif\u001b[0m \u001b[0mindex\u001b[0m \u001b[0;32mis\u001b[0m \u001b[0mNone\u001b[0m\u001b[0;34m:\u001b[0m\u001b[0;34m\u001b[0m\u001b[0m\n\u001b[0;32m-> 5231\u001b[0;31m         \u001b[0mindex\u001b[0m \u001b[0;34m=\u001b[0m \u001b[0mextract_index\u001b[0m\u001b[0;34m(\u001b[0m\u001b[0marrays\u001b[0m\u001b[0;34m)\u001b[0m\u001b[0;34m\u001b[0m\u001b[0m\n\u001b[0m\u001b[1;32m   5232\u001b[0m     \u001b[0;32melse\u001b[0m\u001b[0;34m:\u001b[0m\u001b[0;34m\u001b[0m\u001b[0m\n\u001b[1;32m   5233\u001b[0m         \u001b[0mindex\u001b[0m \u001b[0;34m=\u001b[0m \u001b[0m_ensure_index\u001b[0m\u001b[0;34m(\u001b[0m\u001b[0mindex\u001b[0m\u001b[0;34m)\u001b[0m\u001b[0;34m\u001b[0m\u001b[0m\n",
      "\u001b[0;32m/Users/nathankiner/anaconda/lib/python2.7/site-packages/pandas/core/frame.pyc\u001b[0m in \u001b[0;36mextract_index\u001b[0;34m(data)\u001b[0m\n\u001b[1;32m   5277\u001b[0m             \u001b[0mlengths\u001b[0m \u001b[0;34m=\u001b[0m \u001b[0mlist\u001b[0m\u001b[0;34m(\u001b[0m\u001b[0mset\u001b[0m\u001b[0;34m(\u001b[0m\u001b[0mraw_lengths\u001b[0m\u001b[0;34m)\u001b[0m\u001b[0;34m)\u001b[0m\u001b[0;34m\u001b[0m\u001b[0m\n\u001b[1;32m   5278\u001b[0m             \u001b[0;32mif\u001b[0m \u001b[0mlen\u001b[0m\u001b[0;34m(\u001b[0m\u001b[0mlengths\u001b[0m\u001b[0;34m)\u001b[0m \u001b[0;34m>\u001b[0m \u001b[0;36m1\u001b[0m\u001b[0;34m:\u001b[0m\u001b[0;34m\u001b[0m\u001b[0m\n\u001b[0;32m-> 5279\u001b[0;31m                 \u001b[0;32mraise\u001b[0m \u001b[0mValueError\u001b[0m\u001b[0;34m(\u001b[0m\u001b[0;34m'arrays must all be same length'\u001b[0m\u001b[0;34m)\u001b[0m\u001b[0;34m\u001b[0m\u001b[0m\n\u001b[0m\u001b[1;32m   5280\u001b[0m \u001b[0;34m\u001b[0m\u001b[0m\n\u001b[1;32m   5281\u001b[0m             \u001b[0;32mif\u001b[0m \u001b[0mhave_dicts\u001b[0m\u001b[0;34m:\u001b[0m\u001b[0;34m\u001b[0m\u001b[0m\n",
      "\u001b[0;31mValueError\u001b[0m: arrays must all be same length"
     ]
    }
   ],
   "source": [
    "with open('data/example.json') as f:\n",
    "    example = json.loads(f.read())"
   ]
  },
  {
   "cell_type": "code",
   "execution_count": 48,
   "metadata": {
    "collapsed": false
   },
   "outputs": [
    {
     "data": {
      "text/html": [
       "<div>\n",
       "<table border=\"1\" class=\"dataframe\">\n",
       "  <thead>\n",
       "    <tr style=\"text-align: right;\">\n",
       "      <th></th>\n",
       "      <th>approx_payout_date</th>\n",
       "      <th>body_length</th>\n",
       "      <th>channels</th>\n",
       "      <th>country</th>\n",
       "      <th>currency</th>\n",
       "      <th>delivery_method</th>\n",
       "      <th>description</th>\n",
       "      <th>email_domain</th>\n",
       "      <th>event_created</th>\n",
       "      <th>event_end</th>\n",
       "      <th>...</th>\n",
       "      <th>ticket_types</th>\n",
       "      <th>user_age</th>\n",
       "      <th>user_created</th>\n",
       "      <th>user_type</th>\n",
       "      <th>venue_address</th>\n",
       "      <th>venue_country</th>\n",
       "      <th>venue_latitude</th>\n",
       "      <th>venue_longitude</th>\n",
       "      <th>venue_name</th>\n",
       "      <th>venue_state</th>\n",
       "    </tr>\n",
       "  </thead>\n",
       "  <tbody>\n",
       "    <tr>\n",
       "      <th>0</th>\n",
       "      <td>1357866000</td>\n",
       "      <td>846</td>\n",
       "      <td>4</td>\n",
       "      <td>US</td>\n",
       "      <td>USD</td>\n",
       "      <td>0</td>\n",
       "      <td>&lt;p&gt;&amp;nbsp;&lt;/p&gt;\\r\\n&lt;p class=\"MsoNormal\"&gt;&lt;img sty...</td>\n",
       "      <td>gmail.com</td>\n",
       "      <td>1349816437</td>\n",
       "      <td>1357434000</td>\n",
       "      <td>...</td>\n",
       "      <td>[{u'event_id': 4551690, u'cost': 41.53, u'avai...</td>\n",
       "      <td>399</td>\n",
       "      <td>1315345153</td>\n",
       "      <td>1</td>\n",
       "      <td>1008 Union St</td>\n",
       "      <td>US</td>\n",
       "      <td>31.1431</td>\n",
       "      <td>-81.491</td>\n",
       "      <td></td>\n",
       "      <td></td>\n",
       "    </tr>\n",
       "  </tbody>\n",
       "</table>\n",
       "<p>1 rows × 43 columns</p>\n",
       "</div>"
      ],
      "text/plain": [
       "  approx_payout_date body_length channels country currency delivery_method  \\\n",
       "0         1357866000         846        4      US      USD               0   \n",
       "\n",
       "                                         description email_domain  \\\n",
       "0  <p>&nbsp;</p>\\r\\n<p class=\"MsoNormal\"><img sty...    gmail.com   \n",
       "\n",
       "  event_created   event_end     ...      \\\n",
       "0    1349816437  1357434000     ...       \n",
       "\n",
       "                                        ticket_types user_age user_created  \\\n",
       "0  [{u'event_id': 4551690, u'cost': 41.53, u'avai...      399   1315345153   \n",
       "\n",
       "  user_type  venue_address venue_country venue_latitude venue_longitude  \\\n",
       "0         1  1008 Union St            US        31.1431         -81.491   \n",
       "\n",
       "  venue_name venue_state  \n",
       "0                         \n",
       "\n",
       "[1 rows x 43 columns]"
      ]
     },
     "execution_count": 48,
     "metadata": {},
     "output_type": "execute_result"
    }
   ],
   "source": [
    "pd.DataFrame(pd.Series(example)).T"
   ]
  },
  {
   "cell_type": "code",
   "execution_count": 49,
   "metadata": {
    "collapsed": false
   },
   "outputs": [
    {
     "data": {
      "text/plain": [
       "0        US\n",
       "1        US\n",
       "2        US\n",
       "3        IE\n",
       "4        US\n",
       "5        US\n",
       "6        US\n",
       "7        US\n",
       "8        US\n",
       "9        US\n",
       "10       US\n",
       "11       US\n",
       "12       US\n",
       "13       US\n",
       "14       US\n",
       "15       US\n",
       "16       US\n",
       "17       US\n",
       "18       US\n",
       "19       US\n",
       "20       FR\n",
       "21       US\n",
       "22       US\n",
       "23       US\n",
       "24       US\n",
       "25       US\n",
       "26       US\n",
       "27       US\n",
       "28       US\n",
       "29       US\n",
       "         ..\n",
       "14307    US\n",
       "14308    US\n",
       "14309    GB\n",
       "14310    US\n",
       "14311    US\n",
       "14312    US\n",
       "14313    US\n",
       "14314      \n",
       "14315    NL\n",
       "14316    GB\n",
       "14317    US\n",
       "14318    US\n",
       "14319    AT\n",
       "14320    GB\n",
       "14321    AU\n",
       "14322    US\n",
       "14323    GB\n",
       "14324    US\n",
       "14325    US\n",
       "14326      \n",
       "14327    US\n",
       "14328    GB\n",
       "14329    GB\n",
       "14330    US\n",
       "14331    US\n",
       "14332    US\n",
       "14333    US\n",
       "14334      \n",
       "14335    US\n",
       "14336    GB\n",
       "Name: country, dtype: object"
      ]
     },
     "execution_count": 49,
     "metadata": {},
     "output_type": "execute_result"
    }
   ],
   "source": []
  },
  {
   "cell_type": "code",
   "execution_count": null,
   "metadata": {
    "collapsed": true
   },
   "outputs": [],
   "source": []
  }
 ],
 "metadata": {
  "kernelspec": {
   "display_name": "Python 2",
   "language": "python",
   "name": "python2"
  },
  "language_info": {
   "codemirror_mode": {
    "name": "ipython",
    "version": 2
   },
   "file_extension": ".py",
   "mimetype": "text/x-python",
   "name": "python",
   "nbconvert_exporter": "python",
   "pygments_lexer": "ipython2",
   "version": "2.7.11"
  }
 },
 "nbformat": 4,
 "nbformat_minor": 0
}
